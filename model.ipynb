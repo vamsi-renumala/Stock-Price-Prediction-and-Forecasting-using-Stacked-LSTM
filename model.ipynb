{
 "cells": [
  {
   "cell_type": "code",
   "execution_count": 194,
   "id": "32d35705-a320-417e-8033-58fdb779b5d7",
   "metadata": {},
   "outputs": [],
   "source": [
    "import pandas_datareader as pdr\n",
    "import pandas as pd"
   ]
  },
  {
   "cell_type": "code",
   "execution_count": 195,
   "id": "a547a2b9-a669-4206-8434-7ea9c0ffee25",
   "metadata": {},
   "outputs": [
    {
     "data": {
      "text/plain": [
       "'2.2.3'"
      ]
     },
     "execution_count": 195,
     "metadata": {},
     "output_type": "execute_result"
    }
   ],
   "source": [
    "# pip install pandas\n",
    "pd.__version__"
   ]
  },
  {
   "cell_type": "code",
   "execution_count": 196,
   "id": "e6f23a04-089f-47e7-a9b1-7eba36a3cabe",
   "metadata": {},
   "outputs": [],
   "source": [
    "# key = 'cba82d250fdf31bcb28e0911d44e34f1ab8f5546'\n",
    "# data = pdr.get_data_tiingo('AAPL', api_key=key)"
   ]
  },
  {
   "cell_type": "code",
   "execution_count": 197,
   "id": "c70de5d4-9d51-468c-b9d6-759b357f9299",
   "metadata": {},
   "outputs": [],
   "source": [
    "# import requests\n",
    "\n",
    "# key = 'cba82d250fdf31bcb28e0911d44e34f1ab8f5546'\n",
    "# url = f\"https://api.tiingo.com/tiingo/daily/AAPL/prices?token={key}\"\n",
    "# response = requests.get(url)\n",
    "# data = response.json()"
   ]
  },
  {
   "cell_type": "code",
   "execution_count": 198,
   "id": "fc2c95c8-871e-499f-b39f-e2df0bed8396",
   "metadata": {},
   "outputs": [
    {
     "name": "stderr",
     "output_type": "stream",
     "text": [
      "[*********************100%***********************]  1 of 1 completed\n"
     ]
    }
   ],
   "source": [
    "import yfinance as yf\n",
    "df = yf.download('AAPL', start='2020-01-01', end='2024-01-01')"
   ]
  },
  {
   "cell_type": "code",
   "execution_count": 199,
   "id": "e9930772-3a61-4ab7-82b0-15eb507a8051",
   "metadata": {},
   "outputs": [
    {
     "data": {
      "text/html": [
       "<div>\n",
       "<style scoped>\n",
       "    .dataframe tbody tr th:only-of-type {\n",
       "        vertical-align: middle;\n",
       "    }\n",
       "\n",
       "    .dataframe tbody tr th {\n",
       "        vertical-align: top;\n",
       "    }\n",
       "\n",
       "    .dataframe thead tr th {\n",
       "        text-align: left;\n",
       "    }\n",
       "\n",
       "    .dataframe thead tr:last-of-type th {\n",
       "        text-align: right;\n",
       "    }\n",
       "</style>\n",
       "<table border=\"1\" class=\"dataframe\">\n",
       "  <thead>\n",
       "    <tr>\n",
       "      <th>Price</th>\n",
       "      <th>Close</th>\n",
       "      <th>High</th>\n",
       "      <th>Low</th>\n",
       "      <th>Open</th>\n",
       "      <th>Volume</th>\n",
       "    </tr>\n",
       "    <tr>\n",
       "      <th>Ticker</th>\n",
       "      <th>AAPL</th>\n",
       "      <th>AAPL</th>\n",
       "      <th>AAPL</th>\n",
       "      <th>AAPL</th>\n",
       "      <th>AAPL</th>\n",
       "    </tr>\n",
       "    <tr>\n",
       "      <th>Date</th>\n",
       "      <th></th>\n",
       "      <th></th>\n",
       "      <th></th>\n",
       "      <th></th>\n",
       "      <th></th>\n",
       "    </tr>\n",
       "  </thead>\n",
       "  <tbody>\n",
       "    <tr>\n",
       "      <th>2020-01-02</th>\n",
       "      <td>72.796036</td>\n",
       "      <td>72.856628</td>\n",
       "      <td>71.545402</td>\n",
       "      <td>71.799888</td>\n",
       "      <td>135480400</td>\n",
       "    </tr>\n",
       "    <tr>\n",
       "      <th>2020-01-03</th>\n",
       "      <td>72.088303</td>\n",
       "      <td>72.851769</td>\n",
       "      <td>71.862900</td>\n",
       "      <td>72.020439</td>\n",
       "      <td>146322800</td>\n",
       "    </tr>\n",
       "    <tr>\n",
       "      <th>2020-01-06</th>\n",
       "      <td>72.662712</td>\n",
       "      <td>72.701492</td>\n",
       "      <td>70.954002</td>\n",
       "      <td>71.206070</td>\n",
       "      <td>118387200</td>\n",
       "    </tr>\n",
       "    <tr>\n",
       "      <th>2020-01-07</th>\n",
       "      <td>72.320984</td>\n",
       "      <td>72.929329</td>\n",
       "      <td>72.100426</td>\n",
       "      <td>72.672417</td>\n",
       "      <td>108872000</td>\n",
       "    </tr>\n",
       "    <tr>\n",
       "      <th>2020-01-08</th>\n",
       "      <td>73.484360</td>\n",
       "      <td>73.787323</td>\n",
       "      <td>72.022865</td>\n",
       "      <td>72.022865</td>\n",
       "      <td>132079200</td>\n",
       "    </tr>\n",
       "  </tbody>\n",
       "</table>\n",
       "</div>"
      ],
      "text/plain": [
       "Price           Close       High        Low       Open     Volume\n",
       "Ticker           AAPL       AAPL       AAPL       AAPL       AAPL\n",
       "Date                                                             \n",
       "2020-01-02  72.796036  72.856628  71.545402  71.799888  135480400\n",
       "2020-01-03  72.088303  72.851769  71.862900  72.020439  146322800\n",
       "2020-01-06  72.662712  72.701492  70.954002  71.206070  118387200\n",
       "2020-01-07  72.320984  72.929329  72.100426  72.672417  108872000\n",
       "2020-01-08  73.484360  73.787323  72.022865  72.022865  132079200"
      ]
     },
     "execution_count": 199,
     "metadata": {},
     "output_type": "execute_result"
    }
   ],
   "source": [
    "df.head()"
   ]
  },
  {
   "cell_type": "code",
   "execution_count": 200,
   "id": "6218b14e-e058-46f8-afb2-6604f77f0bff",
   "metadata": {},
   "outputs": [],
   "source": [
    "df2 = df.reset_index()['Close']"
   ]
  },
  {
   "cell_type": "code",
   "execution_count": 201,
   "id": "4613a556-dfb8-4e72-898f-d66cec7925d2",
   "metadata": {},
   "outputs": [
    {
     "data": {
      "text/html": [
       "<div>\n",
       "<style scoped>\n",
       "    .dataframe tbody tr th:only-of-type {\n",
       "        vertical-align: middle;\n",
       "    }\n",
       "\n",
       "    .dataframe tbody tr th {\n",
       "        vertical-align: top;\n",
       "    }\n",
       "\n",
       "    .dataframe thead th {\n",
       "        text-align: right;\n",
       "    }\n",
       "</style>\n",
       "<table border=\"1\" class=\"dataframe\">\n",
       "  <thead>\n",
       "    <tr style=\"text-align: right;\">\n",
       "      <th>Ticker</th>\n",
       "      <th>AAPL</th>\n",
       "    </tr>\n",
       "  </thead>\n",
       "  <tbody>\n",
       "    <tr>\n",
       "      <th>0</th>\n",
       "      <td>72.796036</td>\n",
       "    </tr>\n",
       "    <tr>\n",
       "      <th>1</th>\n",
       "      <td>72.088303</td>\n",
       "    </tr>\n",
       "    <tr>\n",
       "      <th>2</th>\n",
       "      <td>72.662712</td>\n",
       "    </tr>\n",
       "    <tr>\n",
       "      <th>3</th>\n",
       "      <td>72.320984</td>\n",
       "    </tr>\n",
       "    <tr>\n",
       "      <th>4</th>\n",
       "      <td>73.484360</td>\n",
       "    </tr>\n",
       "    <tr>\n",
       "      <th>...</th>\n",
       "      <td>...</td>\n",
       "    </tr>\n",
       "    <tr>\n",
       "      <th>1001</th>\n",
       "      <td>192.656174</td>\n",
       "    </tr>\n",
       "    <tr>\n",
       "      <th>1002</th>\n",
       "      <td>192.108856</td>\n",
       "    </tr>\n",
       "    <tr>\n",
       "      <th>1003</th>\n",
       "      <td>192.208374</td>\n",
       "    </tr>\n",
       "    <tr>\n",
       "      <th>1004</th>\n",
       "      <td>192.636292</td>\n",
       "    </tr>\n",
       "    <tr>\n",
       "      <th>1005</th>\n",
       "      <td>191.591370</td>\n",
       "    </tr>\n",
       "  </tbody>\n",
       "</table>\n",
       "<p>1006 rows × 1 columns</p>\n",
       "</div>"
      ],
      "text/plain": [
       "Ticker        AAPL\n",
       "0        72.796036\n",
       "1        72.088303\n",
       "2        72.662712\n",
       "3        72.320984\n",
       "4        73.484360\n",
       "...            ...\n",
       "1001    192.656174\n",
       "1002    192.108856\n",
       "1003    192.208374\n",
       "1004    192.636292\n",
       "1005    191.591370\n",
       "\n",
       "[1006 rows x 1 columns]"
      ]
     },
     "execution_count": 201,
     "metadata": {},
     "output_type": "execute_result"
    }
   ],
   "source": [
    "df2"
   ]
  },
  {
   "cell_type": "code",
   "execution_count": 202,
   "id": "0b634c49-3c10-4de7-a51d-dfde77d65863",
   "metadata": {},
   "outputs": [
    {
     "data": {
      "text/plain": [
       "[<matplotlib.lines.Line2D at 0x171d1bb21c0>]"
      ]
     },
     "execution_count": 202,
     "metadata": {},
     "output_type": "execute_result"
    },
    {
     "data": {
      "image/png": "[encoded data removed]",
      "text/plain": [
       "<Figure size 640x480 with 1 Axes>"
      ]
     },
     "metadata": {},
     "output_type": "display_data"
    }
   ],
   "source": [
    "import matplotlib.pyplot as plt\n",
    "plt.plot(df2)"
   ]
  },
  {
   "cell_type": "code",
   "execution_count": 203,
   "id": "1fdaf498-a727-4670-abdf-95b67be7557b",
   "metadata": {},
   "outputs": [],
   "source": [
    "# LSTM are sensitive to scale of data, apply min-max scalar"
   ]
  },
  {
   "cell_type": "code",
   "execution_count": 204,
   "id": "76f26660-4def-4923-84cf-f1eea6a8ab3b",
   "metadata": {},
   "outputs": [],
   "source": [
    "import numpy as np\n",
    "from sklearn.preprocessing import MinMaxScaler\n",
    "\n",
    "scaler = MinMaxScaler(feature_range=(0,1))\n",
    "df2 = scaler.fit_transform(np.array(df2).reshape(-1,1))"
   ]
  },
  {
   "cell_type": "code",
   "execution_count": 205,
   "id": "2e916b8a-1b07-4422-8e57-8a9974204d36",
   "metadata": {},
   "outputs": [
    {
     "data": {
      "text/plain": [
       "(1006, 1)"
      ]
     },
     "execution_count": 205,
     "metadata": {},
     "output_type": "execute_result"
    }
   ],
   "source": [
    "df2.shape"
   ]
  },
  {
   "cell_type": "code",
   "execution_count": 206,
   "id": "b723eb35-c989-4e20-9efd-a6873d92f568",
   "metadata": {},
   "outputs": [
    {
     "data": {
      "text/plain": [
       "array([[0.12820387],\n",
       "       [0.123242  ],\n",
       "       [0.12726914],\n",
       "       ...,\n",
       "       [0.96539541],\n",
       "       [0.96839551],\n",
       "       [0.96106963]])"
      ]
     },
     "execution_count": 206,
     "metadata": {},
     "output_type": "execute_result"
    }
   ],
   "source": [
    "df2"
   ]
  },
  {
   "cell_type": "code",
   "execution_count": 207,
   "id": "8590d2fb-a0d8-4555-b96e-927dce51388e",
   "metadata": {},
   "outputs": [],
   "source": [
    "train_size = int(len(df2)*0.65)\n",
    "test_size = len(df2) - train_size\n",
    "train_data, test_data = df2[0:train_size,:], df2[train_size:len(df2),:1]"
   ]
  },
  {
   "cell_type": "code",
   "execution_count": 208,
   "id": "c43c2425-580d-4a67-84b9-6d3f084e8a3c",
   "metadata": {},
   "outputs": [
    {
     "data": {
      "text/plain": [
       "(653, 353, 1006)"
      ]
     },
     "execution_count": 208,
     "metadata": {},
     "output_type": "execute_result"
    }
   ],
   "source": [
    "train_size, test_size, len(df)"
   ]
  },
  {
   "cell_type": "code",
   "execution_count": 209,
   "id": "1cb23d48-283d-4d2b-b6b2-03e5cae02aa3",
   "metadata": {},
   "outputs": [],
   "source": [
    "def create_dataset(dataset, time_step=1):\n",
    "    dataX, dataY = [], []\n",
    "    for i in range(len(dataset)-time_step-1):\n",
    "        a = dataset[i:(i+time_step),0]\n",
    "        dataX.append(a)\n",
    "        dataY.append(dataset[i+time_step, 0])\n",
    "    return np.array(dataX), np.array(dataY)"
   ]
  },
  {
   "cell_type": "code",
   "execution_count": 210,
   "id": "cd46ddb8-2a97-4f39-baab-14250aac5a17",
   "metadata": {},
   "outputs": [],
   "source": [
    "time_step = 100\n",
    "X_train, y_train = create_dataset(train_data, time_step)\n",
    "X_test, y_test = create_dataset(test_data, time_step)"
   ]
  },
  {
   "cell_type": "code",
   "execution_count": 211,
   "id": "5954a3c7-230a-4a39-8898-358daaa21c0d",
   "metadata": {},
   "outputs": [
    {
     "data": {
      "text/plain": [
       "((552, 100), (252, 100))"
      ]
     },
     "execution_count": 211,
     "metadata": {},
     "output_type": "execute_result"
    }
   ],
   "source": [
    "X_train.shape, X_test.shape"
   ]
  },
  {
   "cell_type": "code",
   "execution_count": 212,
   "id": "9f373453-40c0-466b-8a0a-9bfec9532f80",
   "metadata": {},
   "outputs": [
    {
     "data": {
      "text/plain": [
       "((552,), (252,))"
      ]
     },
     "execution_count": 212,
     "metadata": {},
     "output_type": "execute_result"
    }
   ],
   "source": [
    "y_train.shape, y_test.shape"
   ]
  },
  {
   "cell_type": "code",
   "execution_count": 213,
   "id": "2cdcc24b-66a2-4a45-8258-77abba879099",
   "metadata": {},
   "outputs": [],
   "source": [
    "# reshape input to be [samples, timesteps, features] required for LSTM\n",
    "\n",
    "X_train = X_train.reshape(X_train.shape[0], X_train.shape[1], 1)\n",
    "X_test = X_test.reshape(X_test.shape[0], X_test.shape[1], 1)"
   ]
  },
  {
   "cell_type": "code",
   "execution_count": 214,
   "id": "fb98d157-0111-41d2-b695-934393336501",
   "metadata": {},
   "outputs": [],
   "source": [
    "from tensorflow.keras.models import Sequential\n",
    "from tensorflow.keras.layers import LSTM, Dense"
   ]
  },
  {
   "cell_type": "code",
   "execution_count": 215,
   "id": "9818bab3-b31d-43aa-a742-adbf8c0e2a4a",
   "metadata": {},
   "outputs": [
    {
     "name": "stderr",
     "output_type": "stream",
     "text": [
      "C:\\Users\\dell\\anaconda3\\envs\\dl\\lib\\site-packages\\keras\\src\\layers\\rnn\\rnn.py:200: UserWarning: Do not pass an `input_shape`/`input_dim` argument to a layer. When using Sequential models, prefer using an `Input(shape)` object as the first layer in the model instead.\n",
      "  super().__init__(**kwargs)\n"
     ]
    }
   ],
   "source": [
    "model = Sequential()\n",
    "model.add(LSTM(50, return_sequences=True,input_shape=(100,1)))\n",
    "model.add(LSTM(50, return_sequences=True)) # return sequences - full sequence of outputs for each time step\n",
    "model.add(LSTM(50))\n",
    "model.add(Dense(1))\n",
    "model.compile(loss='mean_squared_error', optimizer='adam')"
   ]
  },
  {
   "cell_type": "code",
   "execution_count": 216,
   "id": "f4183da4-89d1-4e79-9c7c-fd409099edcd",
   "metadata": {},
   "outputs": [
    {
     "data": {
      "text/html": [
       "<pre style=\"white-space:pre;overflow-x:auto;line-height:normal;font-family:Menlo,'DejaVu Sans Mono',consolas,'Courier New',monospace\"><span style=\"font-weight: bold\">Model: \"sequential_2\"</span>\n",
       "</pre>\n"
      ],
      "text/plain": [
       "\u001b[1mModel: \"sequential_2\"\u001b[0m\n"
      ]
     },
     "metadata": {},
     "output_type": "display_data"
    },
    {
     "data": {
      "text/html": [
       "<pre style=\"white-space:pre;overflow-x:auto;line-height:normal;font-family:Menlo,'DejaVu Sans Mono',consolas,'Courier New',monospace\">┏━━━━━━━━━━━━━━━━━━━━━━━━━━━━━━━━━━━━━━┳━━━━━━━━━━━━━━━━━━━━━━━━━━━━━┳━━━━━━━━━━━━━━━━━┓\n",
       "┃<span style=\"font-weight: bold\"> Layer (type)                         </span>┃<span style=\"font-weight: bold\"> Output Shape                </span>┃<span style=\"font-weight: bold\">         Param # </span>┃\n",
       "┡━━━━━━━━━━━━━━━━━━━━━━━━━━━━━━━━━━━━━━╇━━━━━━━━━━━━━━━━━━━━━━━━━━━━━╇━━━━━━━━━━━━━━━━━┩\n",
       "│ lstm_6 (<span style=\"color: #0087ff; text-decoration-color: #0087ff\">LSTM</span>)                        │ (<span style=\"color: #00d7ff; text-decoration-color: #00d7ff\">None</span>, <span style=\"color: #00af00; text-decoration-color: #00af00\">100</span>, <span style=\"color: #00af00; text-decoration-color: #00af00\">50</span>)             │          <span style=\"color: #00af00; text-decoration-color: #00af00\">10,400</span> │\n",
       "├──────────────────────────────────────┼─────────────────────────────┼─────────────────┤\n",
       "│ lstm_7 (<span style=\"color: #0087ff; text-decoration-color: #0087ff\">LSTM</span>)                        │ (<span style=\"color: #00d7ff; text-decoration-color: #00d7ff\">None</span>, <span style=\"color: #00af00; text-decoration-color: #00af00\">100</span>, <span style=\"color: #00af00; text-decoration-color: #00af00\">50</span>)             │          <span style=\"color: #00af00; text-decoration-color: #00af00\">20,200</span> │\n",
       "├──────────────────────────────────────┼─────────────────────────────┼─────────────────┤\n",
       "│ lstm_8 (<span style=\"color: #0087ff; text-decoration-color: #0087ff\">LSTM</span>)                        │ (<span style=\"color: #00d7ff; text-decoration-color: #00d7ff\">None</span>, <span style=\"color: #00af00; text-decoration-color: #00af00\">50</span>)                  │          <span style=\"color: #00af00; text-decoration-color: #00af00\">20,200</span> │\n",
       "├──────────────────────────────────────┼─────────────────────────────┼─────────────────┤\n",
       "│ dense_2 (<span style=\"color: #0087ff; text-decoration-color: #0087ff\">Dense</span>)                      │ (<span style=\"color: #00d7ff; text-decoration-color: #00d7ff\">None</span>, <span style=\"color: #00af00; text-decoration-color: #00af00\">1</span>)                   │              <span style=\"color: #00af00; text-decoration-color: #00af00\">51</span> │\n",
       "└──────────────────────────────────────┴─────────────────────────────┴─────────────────┘\n",
       "</pre>\n"
      ],
      "text/plain": [
       "┏━━━━━━━━━━━━━━━━━━━━━━━━━━━━━━━━━━━━━━┳━━━━━━━━━━━━━━━━━━━━━━━━━━━━━┳━━━━━━━━━━━━━━━━━┓\n",
       "┃\u001b[1m \u001b[0m\u001b[1mLayer (type)                        \u001b[0m\u001b[1m \u001b[0m┃\u001b[1m \u001b[0m\u001b[1mOutput Shape               \u001b[0m\u001b[1m \u001b[0m┃\u001b[1m \u001b[0m\u001b[1m        Param #\u001b[0m\u001b[1m \u001b[0m┃\n",
       "┡━━━━━━━━━━━━━━━━━━━━━━━━━━━━━━━━━━━━━━╇━━━━━━━━━━━━━━━━━━━━━━━━━━━━━╇━━━━━━━━━━━━━━━━━┩\n",
       "│ lstm_6 (\u001b[38;5;33mLSTM\u001b[0m)                        │ (\u001b[38;5;45mNone\u001b[0m, \u001b[38;5;34m100\u001b[0m, \u001b[38;5;34m50\u001b[0m)             │          \u001b[38;5;34m10,400\u001b[0m │\n",
       "├──────────────────────────────────────┼─────────────────────────────┼─────────────────┤\n",
       "│ lstm_7 (\u001b[38;5;33mLSTM\u001b[0m)                        │ (\u001b[38;5;45mNone\u001b[0m, \u001b[38;5;34m100\u001b[0m, \u001b[38;5;34m50\u001b[0m)             │          \u001b[38;5;34m20,200\u001b[0m │\n",
       "├──────────────────────────────────────┼─────────────────────────────┼─────────────────┤\n",
       "│ lstm_8 (\u001b[38;5;33mLSTM\u001b[0m)                        │ (\u001b[38;5;45mNone\u001b[0m, \u001b[38;5;34m50\u001b[0m)                  │          \u001b[38;5;34m20,200\u001b[0m │\n",
       "├──────────────────────────────────────┼─────────────────────────────┼─────────────────┤\n",
       "│ dense_2 (\u001b[38;5;33mDense\u001b[0m)                      │ (\u001b[38;5;45mNone\u001b[0m, \u001b[38;5;34m1\u001b[0m)                   │              \u001b[38;5;34m51\u001b[0m │\n",
       "└──────────────────────────────────────┴─────────────────────────────┴─────────────────┘\n"
      ]
     },
     "metadata": {},
     "output_type": "display_data"
    },
    {
     "data": {
      "text/html": [
       "<pre style=\"white-space:pre;overflow-x:auto;line-height:normal;font-family:Menlo,'DejaVu Sans Mono',consolas,'Courier New',monospace\"><span style=\"font-weight: bold\"> Total params: </span><span style=\"color: #00af00; text-decoration-color: #00af00\">50,851</span> (198.64 KB)\n",
       "</pre>\n"
      ],
      "text/plain": [
       "\u001b[1m Total params: \u001b[0m\u001b[38;5;34m50,851\u001b[0m (198.64 KB)\n"
      ]
     },
     "metadata": {},
     "output_type": "display_data"
    },
    {
     "data": {
      "text/html": [
       "<pre style=\"white-space:pre;overflow-x:auto;line-height:normal;font-family:Menlo,'DejaVu Sans Mono',consolas,'Courier New',monospace\"><span style=\"font-weight: bold\"> Trainable params: </span><span style=\"color: #00af00; text-decoration-color: #00af00\">50,851</span> (198.64 KB)\n",
       "</pre>\n"
      ],
      "text/plain": [
       "\u001b[1m Trainable params: \u001b[0m\u001b[38;5;34m50,851\u001b[0m (198.64 KB)\n"
      ]
     },
     "metadata": {},
     "output_type": "display_data"
    },
    {
     "data": {
      "text/html": [
       "<pre style=\"white-space:pre;overflow-x:auto;line-height:normal;font-family:Menlo,'DejaVu Sans Mono',consolas,'Courier New',monospace\"><span style=\"font-weight: bold\"> Non-trainable params: </span><span style=\"color: #00af00; text-decoration-color: #00af00\">0</span> (0.00 B)\n",
       "</pre>\n"
      ],
      "text/plain": [
       "\u001b[1m Non-trainable params: \u001b[0m\u001b[38;5;34m0\u001b[0m (0.00 B)\n"
      ]
     },
     "metadata": {},
     "output_type": "display_data"
    }
   ],
   "source": [
    "model.summary()"
   ]
  },
  {
   "cell_type": "code",
   "execution_count": 217,
   "id": "4b357f97-e820-45c2-9b54-bec34dea4c12",
   "metadata": {},
   "outputs": [
    {
     "name": "stdout",
     "output_type": "stream",
     "text": [
      "Epoch 1/100\n",
      "9/9 - 31s - 3s/step - loss: 0.1054 - val_loss: 0.0062\n",
      "Epoch 2/100\n",
      "9/9 - 4s - 419ms/step - loss: 0.0123 - val_loss: 0.0288\n",
      "Epoch 3/100\n",
      "9/9 - 3s - 330ms/step - loss: 0.0065 - val_loss: 0.0053\n",
      "Epoch 4/100\n",
      "9/9 - 3s - 316ms/step - loss: 0.0043 - val_loss: 0.0144\n",
      "Epoch 5/100\n",
      "9/9 - 3s - 316ms/step - loss: 0.0039 - val_loss: 0.0073\n",
      "Epoch 6/100\n",
      "9/9 - 3s - 307ms/step - loss: 0.0031 - val_loss: 0.0061\n",
      "Epoch 7/100\n",
      "9/9 - 3s - 305ms/step - loss: 0.0027 - val_loss: 0.0074\n",
      "Epoch 8/100\n",
      "9/9 - 3s - 289ms/step - loss: 0.0025 - val_loss: 0.0031\n",
      "Epoch 9/100\n",
      "9/9 - 3s - 332ms/step - loss: 0.0023 - val_loss: 0.0068\n",
      "Epoch 10/100\n",
      "9/9 - 3s - 316ms/step - loss: 0.0024 - val_loss: 0.0028\n",
      "Epoch 11/100\n",
      "9/9 - 3s - 339ms/step - loss: 0.0022 - val_loss: 0.0034\n",
      "Epoch 12/100\n",
      "9/9 - 5s - 552ms/step - loss: 0.0022 - val_loss: 0.0030\n",
      "Epoch 13/100\n",
      "9/9 - 3s - 320ms/step - loss: 0.0022 - val_loss: 0.0030\n",
      "Epoch 14/100\n",
      "9/9 - 3s - 303ms/step - loss: 0.0022 - val_loss: 0.0037\n",
      "Epoch 15/100\n",
      "9/9 - 3s - 325ms/step - loss: 0.0022 - val_loss: 0.0033\n",
      "Epoch 16/100\n",
      "9/9 - 5s - 566ms/step - loss: 0.0021 - val_loss: 0.0019\n",
      "Epoch 17/100\n",
      "9/9 - 3s - 331ms/step - loss: 0.0023 - val_loss: 0.0026\n",
      "Epoch 18/100\n",
      "9/9 - 3s - 326ms/step - loss: 0.0022 - val_loss: 0.0026\n",
      "Epoch 19/100\n",
      "9/9 - 3s - 321ms/step - loss: 0.0021 - val_loss: 0.0024\n",
      "Epoch 20/100\n",
      "9/9 - 5s - 576ms/step - loss: 0.0021 - val_loss: 0.0021\n",
      "Epoch 21/100\n",
      "9/9 - 3s - 322ms/step - loss: 0.0021 - val_loss: 0.0019\n",
      "Epoch 22/100\n",
      "9/9 - 3s - 323ms/step - loss: 0.0021 - val_loss: 0.0026\n",
      "Epoch 23/100\n",
      "9/9 - 3s - 320ms/step - loss: 0.0020 - val_loss: 0.0028\n",
      "Epoch 24/100\n",
      "9/9 - 5s - 584ms/step - loss: 0.0020 - val_loss: 0.0034\n",
      "Epoch 25/100\n",
      "9/9 - 3s - 325ms/step - loss: 0.0021 - val_loss: 0.0033\n",
      "Epoch 26/100\n",
      "9/9 - 3s - 332ms/step - loss: 0.0020 - val_loss: 0.0034\n",
      "Epoch 27/100\n",
      "9/9 - 3s - 325ms/step - loss: 0.0019 - val_loss: 0.0035\n",
      "Epoch 28/100\n",
      "9/9 - 3s - 327ms/step - loss: 0.0022 - val_loss: 0.0035\n",
      "Epoch 29/100\n",
      "9/9 - 3s - 379ms/step - loss: 0.0021 - val_loss: 0.0032\n",
      "Epoch 30/100\n",
      "9/9 - 5s - 537ms/step - loss: 0.0021 - val_loss: 0.0023\n",
      "Epoch 31/100\n",
      "9/9 - 3s - 284ms/step - loss: 0.0022 - val_loss: 0.0029\n",
      "Epoch 32/100\n",
      "9/9 - 3s - 329ms/step - loss: 0.0019 - val_loss: 0.0021\n",
      "Epoch 33/100\n",
      "9/9 - 3s - 325ms/step - loss: 0.0018 - val_loss: 0.0019\n",
      "Epoch 34/100\n",
      "9/9 - 3s - 328ms/step - loss: 0.0019 - val_loss: 0.0018\n",
      "Epoch 35/100\n",
      "9/9 - 3s - 326ms/step - loss: 0.0018 - val_loss: 0.0013\n",
      "Epoch 36/100\n",
      "9/9 - 3s - 319ms/step - loss: 0.0018 - val_loss: 0.0013\n",
      "Epoch 37/100\n",
      "9/9 - 3s - 323ms/step - loss: 0.0017 - val_loss: 0.0013\n",
      "Epoch 38/100\n",
      "9/9 - 3s - 281ms/step - loss: 0.0020 - val_loss: 0.0013\n",
      "Epoch 39/100\n",
      "9/9 - 3s - 319ms/step - loss: 0.0017 - val_loss: 0.0012\n",
      "Epoch 40/100\n",
      "9/9 - 3s - 326ms/step - loss: 0.0017 - val_loss: 0.0014\n",
      "Epoch 41/100\n",
      "9/9 - 3s - 327ms/step - loss: 0.0016 - val_loss: 0.0017\n",
      "Epoch 42/100\n",
      "9/9 - 3s - 350ms/step - loss: 0.0017 - val_loss: 0.0018\n",
      "Epoch 43/100\n",
      "9/9 - 3s - 326ms/step - loss: 0.0015 - val_loss: 0.0015\n",
      "Epoch 44/100\n",
      "9/9 - 3s - 324ms/step - loss: 0.0015 - val_loss: 0.0013\n",
      "Epoch 45/100\n",
      "9/9 - 3s - 333ms/step - loss: 0.0015 - val_loss: 0.0017\n",
      "Epoch 46/100\n",
      "9/9 - 3s - 327ms/step - loss: 0.0015 - val_loss: 0.0024\n",
      "Epoch 47/100\n",
      "9/9 - 3s - 324ms/step - loss: 0.0014 - val_loss: 0.0016\n",
      "Epoch 48/100\n",
      "9/9 - 3s - 311ms/step - loss: 0.0014 - val_loss: 0.0026\n",
      "Epoch 49/100\n",
      "9/9 - 6s - 621ms/step - loss: 0.0015 - val_loss: 0.0011\n",
      "Epoch 50/100\n",
      "9/9 - 3s - 348ms/step - loss: 0.0013 - val_loss: 0.0011\n",
      "Epoch 51/100\n",
      "9/9 - 3s - 327ms/step - loss: 0.0015 - val_loss: 0.0019\n",
      "Epoch 52/100\n",
      "9/9 - 3s - 353ms/step - loss: 0.0014 - val_loss: 0.0018\n",
      "Epoch 53/100\n",
      "9/9 - 3s - 326ms/step - loss: 0.0013 - val_loss: 0.0011\n",
      "Epoch 54/100\n",
      "9/9 - 3s - 319ms/step - loss: 0.0014 - val_loss: 0.0011\n",
      "Epoch 55/100\n",
      "9/9 - 3s - 351ms/step - loss: 0.0015 - val_loss: 9.0229e-04\n",
      "Epoch 56/100\n",
      "9/9 - 3s - 331ms/step - loss: 0.0013 - val_loss: 0.0017\n",
      "Epoch 57/100\n",
      "9/9 - 3s - 324ms/step - loss: 0.0012 - val_loss: 0.0011\n",
      "Epoch 58/100\n",
      "9/9 - 3s - 324ms/step - loss: 0.0012 - val_loss: 0.0018\n",
      "Epoch 59/100\n",
      "9/9 - 3s - 328ms/step - loss: 0.0012 - val_loss: 0.0020\n",
      "Epoch 60/100\n",
      "9/9 - 5s - 569ms/step - loss: 0.0012 - val_loss: 9.2432e-04\n",
      "Epoch 61/100\n",
      "9/9 - 3s - 351ms/step - loss: 0.0011 - val_loss: 8.4832e-04\n",
      "Epoch 62/100\n",
      "9/9 - 3s - 324ms/step - loss: 0.0012 - val_loss: 8.4037e-04\n",
      "Epoch 63/100\n",
      "9/9 - 3s - 327ms/step - loss: 0.0012 - val_loss: 0.0014\n",
      "Epoch 64/100\n",
      "9/9 - 3s - 354ms/step - loss: 0.0011 - val_loss: 0.0016\n",
      "Epoch 65/100\n",
      "9/9 - 3s - 328ms/step - loss: 0.0011 - val_loss: 7.4758e-04\n",
      "Epoch 66/100\n",
      "9/9 - 3s - 321ms/step - loss: 0.0012 - val_loss: 7.5507e-04\n",
      "Epoch 67/100\n",
      "9/9 - 3s - 347ms/step - loss: 0.0012 - val_loss: 0.0013\n",
      "Epoch 68/100\n",
      "9/9 - 5s - 513ms/step - loss: 0.0013 - val_loss: 0.0025\n",
      "Epoch 69/100\n",
      "9/9 - 3s - 306ms/step - loss: 0.0011 - val_loss: 9.7648e-04\n",
      "Epoch 70/100\n",
      "9/9 - 5s - 595ms/step - loss: 0.0011 - val_loss: 0.0010\n",
      "Epoch 71/100\n",
      "9/9 - 3s - 321ms/step - loss: 0.0010 - val_loss: 0.0017\n",
      "Epoch 72/100\n",
      "9/9 - 3s - 326ms/step - loss: 0.0011 - val_loss: 0.0014\n",
      "Epoch 73/100\n",
      "9/9 - 3s - 327ms/step - loss: 0.0010 - val_loss: 6.8858e-04\n",
      "Epoch 74/100\n",
      "9/9 - 3s - 326ms/step - loss: 0.0010 - val_loss: 0.0012\n",
      "Epoch 75/100\n",
      "9/9 - 3s - 323ms/step - loss: 0.0010 - val_loss: 8.5059e-04\n",
      "Epoch 76/100\n",
      "9/9 - 3s - 329ms/step - loss: 9.9517e-04 - val_loss: 6.3468e-04\n",
      "Epoch 77/100\n",
      "9/9 - 3s - 327ms/step - loss: 9.6286e-04 - val_loss: 7.0330e-04\n",
      "Epoch 78/100\n",
      "9/9 - 3s - 315ms/step - loss: 9.6626e-04 - val_loss: 7.4598e-04\n",
      "Epoch 79/100\n",
      "9/9 - 3s - 326ms/step - loss: 0.0011 - val_loss: 9.4703e-04\n",
      "Epoch 80/100\n",
      "9/9 - 3s - 330ms/step - loss: 9.4870e-04 - val_loss: 6.5911e-04\n",
      "Epoch 81/100\n",
      "9/9 - 3s - 329ms/step - loss: 9.0470e-04 - val_loss: 5.9138e-04\n",
      "Epoch 82/100\n",
      "9/9 - 3s - 324ms/step - loss: 9.0500e-04 - val_loss: 0.0010\n",
      "Epoch 83/100\n",
      "9/9 - 3s - 326ms/step - loss: 9.6384e-04 - val_loss: 0.0019\n",
      "Epoch 84/100\n",
      "9/9 - 3s - 352ms/step - loss: 0.0012 - val_loss: 6.5939e-04\n",
      "Epoch 85/100\n",
      "9/9 - 3s - 279ms/step - loss: 0.0011 - val_loss: 9.6463e-04\n",
      "Epoch 86/100\n",
      "9/9 - 3s - 313ms/step - loss: 9.3610e-04 - val_loss: 0.0017\n",
      "Epoch 87/100\n",
      "9/9 - 3s - 331ms/step - loss: 9.3825e-04 - val_loss: 8.3980e-04\n",
      "Epoch 88/100\n",
      "9/9 - 5s - 591ms/step - loss: 8.6050e-04 - val_loss: 6.8043e-04\n",
      "Epoch 89/100\n",
      "9/9 - 5s - 556ms/step - loss: 8.6808e-04 - val_loss: 5.9848e-04\n",
      "Epoch 90/100\n",
      "9/9 - 3s - 324ms/step - loss: 8.8732e-04 - val_loss: 7.4340e-04\n",
      "Epoch 91/100\n",
      "9/9 - 3s - 327ms/step - loss: 8.4261e-04 - val_loss: 8.3789e-04\n",
      "Epoch 92/100\n",
      "9/9 - 3s - 326ms/step - loss: 8.3897e-04 - val_loss: 9.3646e-04\n",
      "Epoch 93/100\n",
      "9/9 - 3s - 323ms/step - loss: 8.9808e-04 - val_loss: 5.1138e-04\n",
      "Epoch 94/100\n",
      "9/9 - 3s - 324ms/step - loss: 8.4559e-04 - val_loss: 6.4764e-04\n",
      "Epoch 95/100\n",
      "9/9 - 3s - 330ms/step - loss: 8.2948e-04 - val_loss: 5.0316e-04\n",
      "Epoch 96/100\n",
      "9/9 - 3s - 324ms/step - loss: 8.8787e-04 - val_loss: 6.3483e-04\n",
      "Epoch 97/100\n",
      "9/9 - 5s - 578ms/step - loss: 8.1177e-04 - val_loss: 0.0011\n",
      "Epoch 98/100\n",
      "9/9 - 3s - 325ms/step - loss: 7.7806e-04 - val_loss: 7.4351e-04\n",
      "Epoch 99/100\n",
      "9/9 - 3s - 354ms/step - loss: 7.9674e-04 - val_loss: 6.6014e-04\n",
      "Epoch 100/100\n",
      "9/9 - 3s - 327ms/step - loss: 8.2540e-04 - val_loss: 5.1818e-04\n"
     ]
    },
    {
     "data": {
      "text/plain": [
       "<keras.src.callbacks.history.History at 0x171d1ce5280>"
      ]
     },
     "execution_count": 217,
     "metadata": {},
     "output_type": "execute_result"
    }
   ],
   "source": [
    "model.fit(X_train, y_train, validation_data=(X_test, y_test), epochs=100, batch_size=64,verbose=2)"
   ]
  },
  {
   "cell_type": "code",
   "execution_count": 218,
   "id": "944e18be-a8a9-4e8f-acfc-c561fc9e2df5",
   "metadata": {},
   "outputs": [
    {
     "name": "stdout",
     "output_type": "stream",
     "text": [
      "\u001b[1m18/18\u001b[0m \u001b[32m━━━━━━━━━━━━━━━━━━━━\u001b[0m\u001b[37m\u001b[0m \u001b[1m4s\u001b[0m 145ms/step\n",
      "\u001b[1m8/8\u001b[0m \u001b[32m━━━━━━━━━━━━━━━━━━━━\u001b[0m\u001b[37m\u001b[0m \u001b[1m1s\u001b[0m 79ms/step \n"
     ]
    }
   ],
   "source": [
    "train_predict = model.predict(X_train)\n",
    "test_predict = model.predict(X_test)"
   ]
  },
  {
   "cell_type": "code",
   "execution_count": 219,
   "id": "2691ad38-efad-4ff6-a2b1-a3806c86ea91",
   "metadata": {},
   "outputs": [],
   "source": [
    "# Transform back to original form\n",
    "train_predict = scaler.inverse_transform(train_predict)\n",
    "test_predict = scaler.inverse_transform(test_predict)"
   ]
  },
  {
   "cell_type": "code",
   "execution_count": 220,
   "id": "c542563c-42cd-4bbc-b441-d82332cae36e",
   "metadata": {},
   "outputs": [
    {
     "data": {
      "text/plain": [
       "136.1349552128728"
      ]
     },
     "execution_count": 220,
     "metadata": {},
     "output_type": "execute_result"
    }
   ],
   "source": [
    "import math\n",
    "from sklearn.metrics import mean_squared_error\n",
    "math.sqrt(mean_squared_error(y_train, train_predict))"
   ]
  },
  {
   "cell_type": "code",
   "execution_count": 221,
   "id": "70a5f071-7d91-4b87-ba69-bb5fd6d2db6b",
   "metadata": {},
   "outputs": [
    {
     "data": {
      "text/plain": [
       "169.85487487930052"
      ]
     },
     "execution_count": 221,
     "metadata": {},
     "output_type": "execute_result"
    }
   ],
   "source": [
    "math.sqrt(mean_squared_error(y_test, test_predict))"
   ]
  },
  {
   "cell_type": "code",
   "execution_count": 222,
   "id": "b87bee3d-42f0-4118-9c05-27581e45087e",
   "metadata": {},
   "outputs": [
    {
     "data": {
      "text/plain": [
       "353"
      ]
     },
     "execution_count": 222,
     "metadata": {},
     "output_type": "execute_result"
    }
   ],
   "source": [
    "len(test_data)"
   ]
  },
  {
   "cell_type": "code",
   "execution_count": 223,
   "id": "a98c877f-fd06-4e53-bb2b-9436099e93cd",
   "metadata": {},
   "outputs": [
    {
     "data": {
      "image/png": "[encoded data removed]",
      "text/plain": [
       "<Figure size 640x480 with 1 Axes>"
      ]
     },
     "metadata": {},
     "output_type": "display_data"
    }
   ],
   "source": [
    "lookback = 100 # used as previous timestep and moved and added at last\n",
    "# shift train predictions for plotting\n",
    "trainPredictPlot = np.empty_like(df2)\n",
    "trainPredictPlot[:,:] = np.nan\n",
    "trainPredictPlot[lookback:len(train_predict)+lookback, :] = train_predict # first 100 were used to predict\n",
    "\n",
    "# shift test prediction for plotting\n",
    "testPredictPlot = np.empty_like(df2)\n",
    "testPredictPlot[:,:] = np.nan\n",
    "testPredictPlot[len(train_predict)+(lookback*2)+1:len(df2)-1,:] = test_predict # to get the test starting point and plot from on\n",
    "\n",
    "#baseline and predictions\n",
    "plt.plot(scaler.inverse_transform(df2))\n",
    "plt.plot(trainPredictPlot)\n",
    "plt.plot(testPredictPlot)\n",
    "plt.show()"
   ]
  },
  {
   "cell_type": "code",
   "execution_count": 224,
   "id": "1074a837-4485-4860-9066-1f7cc6fcf586",
   "metadata": {},
   "outputs": [],
   "source": [
    "# predict for next 30 days"
   ]
  },
  {
   "cell_type": "code",
   "execution_count": 225,
   "id": "946de13a-cbf1-4c5c-b79a-887a860fe0d2",
   "metadata": {},
   "outputs": [
    {
     "data": {
      "text/plain": [
       "353"
      ]
     },
     "execution_count": 225,
     "metadata": {},
     "output_type": "execute_result"
    }
   ],
   "source": [
    "len(test_data)"
   ]
  },
  {
   "cell_type": "code",
   "execution_count": 226,
   "id": "9807f8d7-c9ca-441d-a1af-e4013bb71b23",
   "metadata": {},
   "outputs": [
    {
     "data": {
      "text/plain": [
       "array([[0.85771308, 0.85618254, 0.85660051, 0.86823632, 0.85423137,\n",
       "        0.84810001, 0.83019345, 0.83360766, 0.84301362, 0.85269858,\n",
       "        0.8798025 , 0.84677626, 0.8623139 , 0.87332271, 0.90070509,\n",
       "        0.92530058, 0.92683369, 0.93791193, 0.93958422, 0.89227435,\n",
       "        0.85499797, 0.85931776, 0.86753957, 0.8462188 , 0.8316567 ,\n",
       "        0.84231698, 0.83723048, 0.85785461, 0.86551907, 0.84057516,\n",
       "        0.82970563, 0.8356978 , 0.84468591, 0.81597956, 0.80531907,\n",
       "        0.80713064, 0.81075389, 0.82845152, 0.81904524, 0.82782441,\n",
       "        0.83653395, 0.85451026, 0.86496172, 0.86078101, 0.87060536,\n",
       "        0.87694586, 0.86398629, 0.86308029, 0.85214112, 0.84301362,\n",
       "        0.84036602, 0.82238981, 0.82322585, 0.82629152, 0.80998749,\n",
       "        0.78065394, 0.78992083, 0.80434364, 0.80768821, 0.82998431,\n",
       "        0.85506762, 0.84865737, 0.86663379, 0.88467996, 0.89213517,\n",
       "        0.88879071, 0.91830228, 0.90713941, 0.92555808, 0.92953478,\n",
       "        0.94139536, 0.94125586, 0.95353483, 0.9478837 , 0.95255801,\n",
       "        0.94320939, 0.94195357, 0.94620928, 0.93902322, 0.94306968,\n",
       "        0.95206987, 0.93944194, 0.96727908, 0.95960467, 0.97320932,\n",
       "        0.98325576, 0.96560466, 0.97627917, 0.99895354, 1.        ,\n",
       "        0.99623265, 0.98451157, 0.99183723, 0.97711638, 0.9760696 ,\n",
       "        0.9685349 , 0.9646977 , 0.96539541, 0.96839551, 0.96106963]])"
      ]
     },
     "execution_count": 226,
     "metadata": {},
     "output_type": "execute_result"
    }
   ],
   "source": [
    "# 353 to find the next one(354) we have to take previous 100 data\n",
    "X_input = test_data[253:].reshape(1,-1)\n",
    "X_input"
   ]
  },
  {
   "cell_type": "code",
   "execution_count": 227,
   "id": "0ef8814e-7728-46b2-8c5e-06c897eabb04",
   "metadata": {},
   "outputs": [],
   "source": [
    "temp_input = list(X_input)\n",
    "temp_input = temp_input[0].tolist()"
   ]
  },
  {
   "cell_type": "code",
   "execution_count": 228,
   "id": "ac9fa105-31af-4b20-bd9d-68dcc9499245",
   "metadata": {},
   "outputs": [
    {
     "data": {
      "text/plain": [
       "(array([[0.9529394]], dtype=float32), [0.9529393911361694])"
      ]
     },
     "execution_count": 228,
     "metadata": {},
     "output_type": "execute_result"
    }
   ],
   "source": [
    "X_input = X_input.reshape(1,100,1)\n",
    "yhat = model.predict(X_input, verbose=0)\n",
    "yhat,yhat[0].tolist()"
   ]
  },
  {
   "cell_type": "code",
   "execution_count": 229,
   "id": "312c647b-561e-421b-9dde-1bcad64331b4",
   "metadata": {},
   "outputs": [
    {
     "name": "stdout",
     "output_type": "stream",
     "text": [
      "[0.9529394]\n",
      "101\n",
      "1 day input [0.85618254 0.85660051 0.86823632 0.85423137 0.84810001 0.83019345\n",
      " 0.83360766 0.84301362 0.85269858 0.8798025  0.84677626 0.8623139\n",
      " 0.87332271 0.90070509 0.92530058 0.92683369 0.93791193 0.93958422\n",
      " 0.89227435 0.85499797 0.85931776 0.86753957 0.8462188  0.8316567\n",
      " 0.84231698 0.83723048 0.85785461 0.86551907 0.84057516 0.82970563\n",
      " 0.8356978  0.84468591 0.81597956 0.80531907 0.80713064 0.81075389\n",
      " 0.82845152 0.81904524 0.82782441 0.83653395 0.85451026 0.86496172\n",
      " 0.86078101 0.87060536 0.87694586 0.86398629 0.86308029 0.85214112\n",
      " 0.84301362 0.84036602 0.82238981 0.82322585 0.82629152 0.80998749\n",
      " 0.78065394 0.78992083 0.80434364 0.80768821 0.82998431 0.85506762\n",
      " 0.84865737 0.86663379 0.88467996 0.89213517 0.88879071 0.91830228\n",
      " 0.90713941 0.92555808 0.92953478 0.94139536 0.94125586 0.95353483\n",
      " 0.9478837  0.95255801 0.94320939 0.94195357 0.94620928 0.93902322\n",
      " 0.94306968 0.95206987 0.93944194 0.96727908 0.95960467 0.97320932\n",
      " 0.98325576 0.96560466 0.97627917 0.99895354 1.         0.99623265\n",
      " 0.98451157 0.99183723 0.97711638 0.9760696  0.9685349  0.9646977\n",
      " 0.96539541 0.96839551 0.96106963 0.95293939]\n",
      "\n",
      "--------------------------------------------\n",
      "1 day output [[0.9507873]]\n",
      "2 day input [0.85660051 0.86823632 0.85423137 0.84810001 0.83019345 0.83360766\n",
      " 0.84301362 0.85269858 0.8798025  0.84677626 0.8623139  0.87332271\n",
      " 0.90070509 0.92530058 0.92683369 0.93791193 0.93958422 0.89227435\n",
      " 0.85499797 0.85931776 0.86753957 0.8462188  0.8316567  0.84231698\n",
      " 0.83723048 0.85785461 0.86551907 0.84057516 0.82970563 0.8356978\n",
      " 0.84468591 0.81597956 0.80531907 0.80713064 0.81075389 0.82845152\n",
      " 0.81904524 0.82782441 0.83653395 0.85451026 0.86496172 0.86078101\n",
      " 0.87060536 0.87694586 0.86398629 0.86308029 0.85214112 0.84301362\n",
      " 0.84036602 0.82238981 0.82322585 0.82629152 0.80998749 0.78065394\n",
      " 0.78992083 0.80434364 0.80768821 0.82998431 0.85506762 0.84865737\n",
      " 0.86663379 0.88467996 0.89213517 0.88879071 0.91830228 0.90713941\n",
      " 0.92555808 0.92953478 0.94139536 0.94125586 0.95353483 0.9478837\n",
      " 0.95255801 0.94320939 0.94195357 0.94620928 0.93902322 0.94306968\n",
      " 0.95206987 0.93944194 0.96727908 0.95960467 0.97320932 0.98325576\n",
      " 0.96560466 0.97627917 0.99895354 1.         0.99623265 0.98451157\n",
      " 0.99183723 0.97711638 0.9760696  0.9685349  0.9646977  0.96539541\n",
      " 0.96839551 0.96106963 0.95293939 0.95078731]\n",
      "\n",
      "--------------------------------------------\n",
      "2 day output [[0.9481682]]\n",
      "3 day input [0.86823632 0.85423137 0.84810001 0.83019345 0.83360766 0.84301362\n",
      " 0.85269858 0.8798025  0.84677626 0.8623139  0.87332271 0.90070509\n",
      " 0.92530058 0.92683369 0.93791193 0.93958422 0.89227435 0.85499797\n",
      " 0.85931776 0.86753957 0.8462188  0.8316567  0.84231698 0.83723048\n",
      " 0.85785461 0.86551907 0.84057516 0.82970563 0.8356978  0.84468591\n",
      " 0.81597956 0.80531907 0.80713064 0.81075389 0.82845152 0.81904524\n",
      " 0.82782441 0.83653395 0.85451026 0.86496172 0.86078101 0.87060536\n",
      " 0.87694586 0.86398629 0.86308029 0.85214112 0.84301362 0.84036602\n",
      " 0.82238981 0.82322585 0.82629152 0.80998749 0.78065394 0.78992083\n",
      " 0.80434364 0.80768821 0.82998431 0.85506762 0.84865737 0.86663379\n",
      " 0.88467996 0.89213517 0.88879071 0.91830228 0.90713941 0.92555808\n",
      " 0.92953478 0.94139536 0.94125586 0.95353483 0.9478837  0.95255801\n",
      " 0.94320939 0.94195357 0.94620928 0.93902322 0.94306968 0.95206987\n",
      " 0.93944194 0.96727908 0.95960467 0.97320932 0.98325576 0.96560466\n",
      " 0.97627917 0.99895354 1.         0.99623265 0.98451157 0.99183723\n",
      " 0.97711638 0.9760696  0.9685349  0.9646977  0.96539541 0.96839551\n",
      " 0.96106963 0.95293939 0.95078731 0.94816822]\n",
      "\n",
      "--------------------------------------------\n",
      "3 day output [[0.9454838]]\n",
      "4 day input [0.85423137 0.84810001 0.83019345 0.83360766 0.84301362 0.85269858\n",
      " 0.8798025  0.84677626 0.8623139  0.87332271 0.90070509 0.92530058\n",
      " 0.92683369 0.93791193 0.93958422 0.89227435 0.85499797 0.85931776\n",
      " 0.86753957 0.8462188  0.8316567  0.84231698 0.83723048 0.85785461\n",
      " 0.86551907 0.84057516 0.82970563 0.8356978  0.84468591 0.81597956\n",
      " 0.80531907 0.80713064 0.81075389 0.82845152 0.81904524 0.82782441\n",
      " 0.83653395 0.85451026 0.86496172 0.86078101 0.87060536 0.87694586\n",
      " 0.86398629 0.86308029 0.85214112 0.84301362 0.84036602 0.82238981\n",
      " 0.82322585 0.82629152 0.80998749 0.78065394 0.78992083 0.80434364\n",
      " 0.80768821 0.82998431 0.85506762 0.84865737 0.86663379 0.88467996\n",
      " 0.89213517 0.88879071 0.91830228 0.90713941 0.92555808 0.92953478\n",
      " 0.94139536 0.94125586 0.95353483 0.9478837  0.95255801 0.94320939\n",
      " 0.94195357 0.94620928 0.93902322 0.94306968 0.95206987 0.93944194\n",
      " 0.96727908 0.95960467 0.97320932 0.98325576 0.96560466 0.97627917\n",
      " 0.99895354 1.         0.99623265 0.98451157 0.99183723 0.97711638\n",
      " 0.9760696  0.9685349  0.9646977  0.96539541 0.96839551 0.96106963\n",
      " 0.95293939 0.95078731 0.94816822 0.9454838 ]\n",
      "\n",
      "--------------------------------------------\n",
      "4 day output [[0.94296104]]\n",
      "5 day input [0.84810001 0.83019345 0.83360766 0.84301362 0.85269858 0.8798025\n",
      " 0.84677626 0.8623139  0.87332271 0.90070509 0.92530058 0.92683369\n",
      " 0.93791193 0.93958422 0.89227435 0.85499797 0.85931776 0.86753957\n",
      " 0.8462188  0.8316567  0.84231698 0.83723048 0.85785461 0.86551907\n",
      " 0.84057516 0.82970563 0.8356978  0.84468591 0.81597956 0.80531907\n",
      " 0.80713064 0.81075389 0.82845152 0.81904524 0.82782441 0.83653395\n",
      " 0.85451026 0.86496172 0.86078101 0.87060536 0.87694586 0.86398629\n",
      " 0.86308029 0.85214112 0.84301362 0.84036602 0.82238981 0.82322585\n",
      " 0.82629152 0.80998749 0.78065394 0.78992083 0.80434364 0.80768821\n",
      " 0.82998431 0.85506762 0.84865737 0.86663379 0.88467996 0.89213517\n",
      " 0.88879071 0.91830228 0.90713941 0.92555808 0.92953478 0.94139536\n",
      " 0.94125586 0.95353483 0.9478837  0.95255801 0.94320939 0.94195357\n",
      " 0.94620928 0.93902322 0.94306968 0.95206987 0.93944194 0.96727908\n",
      " 0.95960467 0.97320932 0.98325576 0.96560466 0.97627917 0.99895354\n",
      " 1.         0.99623265 0.98451157 0.99183723 0.97711638 0.9760696\n",
      " 0.9685349  0.9646977  0.96539541 0.96839551 0.96106963 0.95293939\n",
      " 0.95078731 0.94816822 0.9454838  0.94296104]\n",
      "\n",
      "--------------------------------------------\n",
      "5 day output [[0.9406869]]\n",
      "6 day input [0.83019345 0.83360766 0.84301362 0.85269858 0.8798025  0.84677626\n",
      " 0.8623139  0.87332271 0.90070509 0.92530058 0.92683369 0.93791193\n",
      " 0.93958422 0.89227435 0.85499797 0.85931776 0.86753957 0.8462188\n",
      " 0.8316567  0.84231698 0.83723048 0.85785461 0.86551907 0.84057516\n",
      " 0.82970563 0.8356978  0.84468591 0.81597956 0.80531907 0.80713064\n",
      " 0.81075389 0.82845152 0.81904524 0.82782441 0.83653395 0.85451026\n",
      " 0.86496172 0.86078101 0.87060536 0.87694586 0.86398629 0.86308029\n",
      " 0.85214112 0.84301362 0.84036602 0.82238981 0.82322585 0.82629152\n",
      " 0.80998749 0.78065394 0.78992083 0.80434364 0.80768821 0.82998431\n",
      " 0.85506762 0.84865737 0.86663379 0.88467996 0.89213517 0.88879071\n",
      " 0.91830228 0.90713941 0.92555808 0.92953478 0.94139536 0.94125586\n",
      " 0.95353483 0.9478837  0.95255801 0.94320939 0.94195357 0.94620928\n",
      " 0.93902322 0.94306968 0.95206987 0.93944194 0.96727908 0.95960467\n",
      " 0.97320932 0.98325576 0.96560466 0.97627917 0.99895354 1.\n",
      " 0.99623265 0.98451157 0.99183723 0.97711638 0.9760696  0.9685349\n",
      " 0.9646977  0.96539541 0.96839551 0.96106963 0.95293939 0.95078731\n",
      " 0.94816822 0.9454838  0.94296104 0.94068688]\n",
      "\n",
      "--------------------------------------------\n",
      "6 day output [[0.93867356]]\n",
      "7 day input [0.83360766 0.84301362 0.85269858 0.8798025  0.84677626 0.8623139\n",
      " 0.87332271 0.90070509 0.92530058 0.92683369 0.93791193 0.93958422\n",
      " 0.89227435 0.85499797 0.85931776 0.86753957 0.8462188  0.8316567\n",
      " 0.84231698 0.83723048 0.85785461 0.86551907 0.84057516 0.82970563\n",
      " 0.8356978  0.84468591 0.81597956 0.80531907 0.80713064 0.81075389\n",
      " 0.82845152 0.81904524 0.82782441 0.83653395 0.85451026 0.86496172\n",
      " 0.86078101 0.87060536 0.87694586 0.86398629 0.86308029 0.85214112\n",
      " 0.84301362 0.84036602 0.82238981 0.82322585 0.82629152 0.80998749\n",
      " 0.78065394 0.78992083 0.80434364 0.80768821 0.82998431 0.85506762\n",
      " 0.84865737 0.86663379 0.88467996 0.89213517 0.88879071 0.91830228\n",
      " 0.90713941 0.92555808 0.92953478 0.94139536 0.94125586 0.95353483\n",
      " 0.9478837  0.95255801 0.94320939 0.94195357 0.94620928 0.93902322\n",
      " 0.94306968 0.95206987 0.93944194 0.96727908 0.95960467 0.97320932\n",
      " 0.98325576 0.96560466 0.97627917 0.99895354 1.         0.99623265\n",
      " 0.98451157 0.99183723 0.97711638 0.9760696  0.9685349  0.9646977\n",
      " 0.96539541 0.96839551 0.96106963 0.95293939 0.95078731 0.94816822\n",
      " 0.9454838  0.94296104 0.94068688 0.93867356]\n",
      "\n",
      "--------------------------------------------\n",
      "7 day output [[0.9368999]]\n",
      "8 day input [0.84301362 0.85269858 0.8798025  0.84677626 0.8623139  0.87332271\n",
      " 0.90070509 0.92530058 0.92683369 0.93791193 0.93958422 0.89227435\n",
      " 0.85499797 0.85931776 0.86753957 0.8462188  0.8316567  0.84231698\n",
      " 0.83723048 0.85785461 0.86551907 0.84057516 0.82970563 0.8356978\n",
      " 0.84468591 0.81597956 0.80531907 0.80713064 0.81075389 0.82845152\n",
      " 0.81904524 0.82782441 0.83653395 0.85451026 0.86496172 0.86078101\n",
      " 0.87060536 0.87694586 0.86398629 0.86308029 0.85214112 0.84301362\n",
      " 0.84036602 0.82238981 0.82322585 0.82629152 0.80998749 0.78065394\n",
      " 0.78992083 0.80434364 0.80768821 0.82998431 0.85506762 0.84865737\n",
      " 0.86663379 0.88467996 0.89213517 0.88879071 0.91830228 0.90713941\n",
      " 0.92555808 0.92953478 0.94139536 0.94125586 0.95353483 0.9478837\n",
      " 0.95255801 0.94320939 0.94195357 0.94620928 0.93902322 0.94306968\n",
      " 0.95206987 0.93944194 0.96727908 0.95960467 0.97320932 0.98325576\n",
      " 0.96560466 0.97627917 0.99895354 1.         0.99623265 0.98451157\n",
      " 0.99183723 0.97711638 0.9760696  0.9685349  0.9646977  0.96539541\n",
      " 0.96839551 0.96106963 0.95293939 0.95078731 0.94816822 0.9454838\n",
      " 0.94296104 0.94068688 0.93867356 0.9368999 ]\n",
      "\n",
      "--------------------------------------------\n",
      "8 day output [[0.9353325]]\n",
      "9 day input [0.85269858 0.8798025  0.84677626 0.8623139  0.87332271 0.90070509\n",
      " 0.92530058 0.92683369 0.93791193 0.93958422 0.89227435 0.85499797\n",
      " 0.85931776 0.86753957 0.8462188  0.8316567  0.84231698 0.83723048\n",
      " 0.85785461 0.86551907 0.84057516 0.82970563 0.8356978  0.84468591\n",
      " 0.81597956 0.80531907 0.80713064 0.81075389 0.82845152 0.81904524\n",
      " 0.82782441 0.83653395 0.85451026 0.86496172 0.86078101 0.87060536\n",
      " 0.87694586 0.86398629 0.86308029 0.85214112 0.84301362 0.84036602\n",
      " 0.82238981 0.82322585 0.82629152 0.80998749 0.78065394 0.78992083\n",
      " 0.80434364 0.80768821 0.82998431 0.85506762 0.84865737 0.86663379\n",
      " 0.88467996 0.89213517 0.88879071 0.91830228 0.90713941 0.92555808\n",
      " 0.92953478 0.94139536 0.94125586 0.95353483 0.9478837  0.95255801\n",
      " 0.94320939 0.94195357 0.94620928 0.93902322 0.94306968 0.95206987\n",
      " 0.93944194 0.96727908 0.95960467 0.97320932 0.98325576 0.96560466\n",
      " 0.97627917 0.99895354 1.         0.99623265 0.98451157 0.99183723\n",
      " 0.97711638 0.9760696  0.9685349  0.9646977  0.96539541 0.96839551\n",
      " 0.96106963 0.95293939 0.95078731 0.94816822 0.9454838  0.94296104\n",
      " 0.94068688 0.93867356 0.9368999  0.93533248]\n",
      "\n",
      "--------------------------------------------\n",
      "9 day output [[0.9339341]]\n",
      "10 day input [0.8798025  0.84677626 0.8623139  0.87332271 0.90070509 0.92530058\n",
      " 0.92683369 0.93791193 0.93958422 0.89227435 0.85499797 0.85931776\n",
      " 0.86753957 0.8462188  0.8316567  0.84231698 0.83723048 0.85785461\n",
      " 0.86551907 0.84057516 0.82970563 0.8356978  0.84468591 0.81597956\n",
      " 0.80531907 0.80713064 0.81075389 0.82845152 0.81904524 0.82782441\n",
      " 0.83653395 0.85451026 0.86496172 0.86078101 0.87060536 0.87694586\n",
      " 0.86398629 0.86308029 0.85214112 0.84301362 0.84036602 0.82238981\n",
      " 0.82322585 0.82629152 0.80998749 0.78065394 0.78992083 0.80434364\n",
      " 0.80768821 0.82998431 0.85506762 0.84865737 0.86663379 0.88467996\n",
      " 0.89213517 0.88879071 0.91830228 0.90713941 0.92555808 0.92953478\n",
      " 0.94139536 0.94125586 0.95353483 0.9478837  0.95255801 0.94320939\n",
      " 0.94195357 0.94620928 0.93902322 0.94306968 0.95206987 0.93944194\n",
      " 0.96727908 0.95960467 0.97320932 0.98325576 0.96560466 0.97627917\n",
      " 0.99895354 1.         0.99623265 0.98451157 0.99183723 0.97711638\n",
      " 0.9760696  0.9685349  0.9646977  0.96539541 0.96839551 0.96106963\n",
      " 0.95293939 0.95078731 0.94816822 0.9454838  0.94296104 0.94068688\n",
      " 0.93867356 0.9368999  0.93533248 0.93393409]\n",
      "\n",
      "--------------------------------------------\n",
      "10 day output [[0.9326669]]\n",
      "11 day input [0.84677626 0.8623139  0.87332271 0.90070509 0.92530058 0.92683369\n",
      " 0.93791193 0.93958422 0.89227435 0.85499797 0.85931776 0.86753957\n",
      " 0.8462188  0.8316567  0.84231698 0.83723048 0.85785461 0.86551907\n",
      " 0.84057516 0.82970563 0.8356978  0.84468591 0.81597956 0.80531907\n",
      " 0.80713064 0.81075389 0.82845152 0.81904524 0.82782441 0.83653395\n",
      " 0.85451026 0.86496172 0.86078101 0.87060536 0.87694586 0.86398629\n",
      " 0.86308029 0.85214112 0.84301362 0.84036602 0.82238981 0.82322585\n",
      " 0.82629152 0.80998749 0.78065394 0.78992083 0.80434364 0.80768821\n",
      " 0.82998431 0.85506762 0.84865737 0.86663379 0.88467996 0.89213517\n",
      " 0.88879071 0.91830228 0.90713941 0.92555808 0.92953478 0.94139536\n",
      " 0.94125586 0.95353483 0.9478837  0.95255801 0.94320939 0.94195357\n",
      " 0.94620928 0.93902322 0.94306968 0.95206987 0.93944194 0.96727908\n",
      " 0.95960467 0.97320932 0.98325576 0.96560466 0.97627917 0.99895354\n",
      " 1.         0.99623265 0.98451157 0.99183723 0.97711638 0.9760696\n",
      " 0.9685349  0.9646977  0.96539541 0.96839551 0.96106963 0.95293939\n",
      " 0.95078731 0.94816822 0.9454838  0.94296104 0.94068688 0.93867356\n",
      " 0.9368999  0.93533248 0.93393409 0.9326669 ]\n",
      "\n",
      "--------------------------------------------\n",
      "11 day output [[0.9314949]]\n",
      "12 day input [0.8623139  0.87332271 0.90070509 0.92530058 0.92683369 0.93791193\n",
      " 0.93958422 0.89227435 0.85499797 0.85931776 0.86753957 0.8462188\n",
      " 0.8316567  0.84231698 0.83723048 0.85785461 0.86551907 0.84057516\n",
      " 0.82970563 0.8356978  0.84468591 0.81597956 0.80531907 0.80713064\n",
      " 0.81075389 0.82845152 0.81904524 0.82782441 0.83653395 0.85451026\n",
      " 0.86496172 0.86078101 0.87060536 0.87694586 0.86398629 0.86308029\n",
      " 0.85214112 0.84301362 0.84036602 0.82238981 0.82322585 0.82629152\n",
      " 0.80998749 0.78065394 0.78992083 0.80434364 0.80768821 0.82998431\n",
      " 0.85506762 0.84865737 0.86663379 0.88467996 0.89213517 0.88879071\n",
      " 0.91830228 0.90713941 0.92555808 0.92953478 0.94139536 0.94125586\n",
      " 0.95353483 0.9478837  0.95255801 0.94320939 0.94195357 0.94620928\n",
      " 0.93902322 0.94306968 0.95206987 0.93944194 0.96727908 0.95960467\n",
      " 0.97320932 0.98325576 0.96560466 0.97627917 0.99895354 1.\n",
      " 0.99623265 0.98451157 0.99183723 0.97711638 0.9760696  0.9685349\n",
      " 0.9646977  0.96539541 0.96839551 0.96106963 0.95293939 0.95078731\n",
      " 0.94816822 0.9454838  0.94296104 0.94068688 0.93867356 0.9368999\n",
      " 0.93533248 0.93393409 0.9326669  0.93149489]\n",
      "\n",
      "--------------------------------------------\n",
      "12 day output [[0.93038476]]\n",
      "13 day input [0.87332271 0.90070509 0.92530058 0.92683369 0.93791193 0.93958422\n",
      " 0.89227435 0.85499797 0.85931776 0.86753957 0.8462188  0.8316567\n",
      " 0.84231698 0.83723048 0.85785461 0.86551907 0.84057516 0.82970563\n",
      " 0.8356978  0.84468591 0.81597956 0.80531907 0.80713064 0.81075389\n",
      " 0.82845152 0.81904524 0.82782441 0.83653395 0.85451026 0.86496172\n",
      " 0.86078101 0.87060536 0.87694586 0.86398629 0.86308029 0.85214112\n",
      " 0.84301362 0.84036602 0.82238981 0.82322585 0.82629152 0.80998749\n",
      " 0.78065394 0.78992083 0.80434364 0.80768821 0.82998431 0.85506762\n",
      " 0.84865737 0.86663379 0.88467996 0.89213517 0.88879071 0.91830228\n",
      " 0.90713941 0.92555808 0.92953478 0.94139536 0.94125586 0.95353483\n",
      " 0.9478837  0.95255801 0.94320939 0.94195357 0.94620928 0.93902322\n",
      " 0.94306968 0.95206987 0.93944194 0.96727908 0.95960467 0.97320932\n",
      " 0.98325576 0.96560466 0.97627917 0.99895354 1.         0.99623265\n",
      " 0.98451157 0.99183723 0.97711638 0.9760696  0.9685349  0.9646977\n",
      " 0.96539541 0.96839551 0.96106963 0.95293939 0.95078731 0.94816822\n",
      " 0.9454838  0.94296104 0.94068688 0.93867356 0.9368999  0.93533248\n",
      " 0.93393409 0.9326669  0.93149489 0.93038476]\n",
      "\n",
      "--------------------------------------------\n",
      "13 day output [[0.9293062]]\n",
      "14 day input [0.90070509 0.92530058 0.92683369 0.93791193 0.93958422 0.89227435\n",
      " 0.85499797 0.85931776 0.86753957 0.8462188  0.8316567  0.84231698\n",
      " 0.83723048 0.85785461 0.86551907 0.84057516 0.82970563 0.8356978\n",
      " 0.84468591 0.81597956 0.80531907 0.80713064 0.81075389 0.82845152\n",
      " 0.81904524 0.82782441 0.83653395 0.85451026 0.86496172 0.86078101\n",
      " 0.87060536 0.87694586 0.86398629 0.86308029 0.85214112 0.84301362\n",
      " 0.84036602 0.82238981 0.82322585 0.82629152 0.80998749 0.78065394\n",
      " 0.78992083 0.80434364 0.80768821 0.82998431 0.85506762 0.84865737\n",
      " 0.86663379 0.88467996 0.89213517 0.88879071 0.91830228 0.90713941\n",
      " 0.92555808 0.92953478 0.94139536 0.94125586 0.95353483 0.9478837\n",
      " 0.95255801 0.94320939 0.94195357 0.94620928 0.93902322 0.94306968\n",
      " 0.95206987 0.93944194 0.96727908 0.95960467 0.97320932 0.98325576\n",
      " 0.96560466 0.97627917 0.99895354 1.         0.99623265 0.98451157\n",
      " 0.99183723 0.97711638 0.9760696  0.9685349  0.9646977  0.96539541\n",
      " 0.96839551 0.96106963 0.95293939 0.95078731 0.94816822 0.9454838\n",
      " 0.94296104 0.94068688 0.93867356 0.9368999  0.93533248 0.93393409\n",
      " 0.9326669  0.93149489 0.93038476 0.92930621]\n",
      "\n",
      "--------------------------------------------\n",
      "14 day output [[0.9282332]]\n",
      "15 day input [0.92530058 0.92683369 0.93791193 0.93958422 0.89227435 0.85499797\n",
      " 0.85931776 0.86753957 0.8462188  0.8316567  0.84231698 0.83723048\n",
      " 0.85785461 0.86551907 0.84057516 0.82970563 0.8356978  0.84468591\n",
      " 0.81597956 0.80531907 0.80713064 0.81075389 0.82845152 0.81904524\n",
      " 0.82782441 0.83653395 0.85451026 0.86496172 0.86078101 0.87060536\n",
      " 0.87694586 0.86398629 0.86308029 0.85214112 0.84301362 0.84036602\n",
      " 0.82238981 0.82322585 0.82629152 0.80998749 0.78065394 0.78992083\n",
      " 0.80434364 0.80768821 0.82998431 0.85506762 0.84865737 0.86663379\n",
      " 0.88467996 0.89213517 0.88879071 0.91830228 0.90713941 0.92555808\n",
      " 0.92953478 0.94139536 0.94125586 0.95353483 0.9478837  0.95255801\n",
      " 0.94320939 0.94195357 0.94620928 0.93902322 0.94306968 0.95206987\n",
      " 0.93944194 0.96727908 0.95960467 0.97320932 0.98325576 0.96560466\n",
      " 0.97627917 0.99895354 1.         0.99623265 0.98451157 0.99183723\n",
      " 0.97711638 0.9760696  0.9685349  0.9646977  0.96539541 0.96839551\n",
      " 0.96106963 0.95293939 0.95078731 0.94816822 0.9454838  0.94296104\n",
      " 0.94068688 0.93867356 0.9368999  0.93533248 0.93393409 0.9326669\n",
      " 0.93149489 0.93038476 0.92930621 0.92823321]\n",
      "\n",
      "--------------------------------------------\n",
      "15 day output [[0.9271446]]\n",
      "16 day input [0.92683369 0.93791193 0.93958422 0.89227435 0.85499797 0.85931776\n",
      " 0.86753957 0.8462188  0.8316567  0.84231698 0.83723048 0.85785461\n",
      " 0.86551907 0.84057516 0.82970563 0.8356978  0.84468591 0.81597956\n",
      " 0.80531907 0.80713064 0.81075389 0.82845152 0.81904524 0.82782441\n",
      " 0.83653395 0.85451026 0.86496172 0.86078101 0.87060536 0.87694586\n",
      " 0.86398629 0.86308029 0.85214112 0.84301362 0.84036602 0.82238981\n",
      " 0.82322585 0.82629152 0.80998749 0.78065394 0.78992083 0.80434364\n",
      " 0.80768821 0.82998431 0.85506762 0.84865737 0.86663379 0.88467996\n",
      " 0.89213517 0.88879071 0.91830228 0.90713941 0.92555808 0.92953478\n",
      " 0.94139536 0.94125586 0.95353483 0.9478837  0.95255801 0.94320939\n",
      " 0.94195357 0.94620928 0.93902322 0.94306968 0.95206987 0.93944194\n",
      " 0.96727908 0.95960467 0.97320932 0.98325576 0.96560466 0.97627917\n",
      " 0.99895354 1.         0.99623265 0.98451157 0.99183723 0.97711638\n",
      " 0.9760696  0.9685349  0.9646977  0.96539541 0.96839551 0.96106963\n",
      " 0.95293939 0.95078731 0.94816822 0.9454838  0.94296104 0.94068688\n",
      " 0.93867356 0.9368999  0.93533248 0.93393409 0.9326669  0.93149489\n",
      " 0.93038476 0.92930621 0.92823321 0.92714459]\n",
      "\n",
      "--------------------------------------------\n",
      "16 day output [[0.9260236]]\n",
      "17 day input [0.93791193 0.93958422 0.89227435 0.85499797 0.85931776 0.86753957\n",
      " 0.8462188  0.8316567  0.84231698 0.83723048 0.85785461 0.86551907\n",
      " 0.84057516 0.82970563 0.8356978  0.84468591 0.81597956 0.80531907\n",
      " 0.80713064 0.81075389 0.82845152 0.81904524 0.82782441 0.83653395\n",
      " 0.85451026 0.86496172 0.86078101 0.87060536 0.87694586 0.86398629\n",
      " 0.86308029 0.85214112 0.84301362 0.84036602 0.82238981 0.82322585\n",
      " 0.82629152 0.80998749 0.78065394 0.78992083 0.80434364 0.80768821\n",
      " 0.82998431 0.85506762 0.84865737 0.86663379 0.88467996 0.89213517\n",
      " 0.88879071 0.91830228 0.90713941 0.92555808 0.92953478 0.94139536\n",
      " 0.94125586 0.95353483 0.9478837  0.95255801 0.94320939 0.94195357\n",
      " 0.94620928 0.93902322 0.94306968 0.95206987 0.93944194 0.96727908\n",
      " 0.95960467 0.97320932 0.98325576 0.96560466 0.97627917 0.99895354\n",
      " 1.         0.99623265 0.98451157 0.99183723 0.97711638 0.9760696\n",
      " 0.9685349  0.9646977  0.96539541 0.96839551 0.96106963 0.95293939\n",
      " 0.95078731 0.94816822 0.9454838  0.94296104 0.94068688 0.93867356\n",
      " 0.9368999  0.93533248 0.93393409 0.9326669  0.93149489 0.93038476\n",
      " 0.92930621 0.92823321 0.92714459 0.9260236 ]\n",
      "\n",
      "--------------------------------------------\n",
      "17 day output [[0.9248584]]\n",
      "18 day input [0.93958422 0.89227435 0.85499797 0.85931776 0.86753957 0.8462188\n",
      " 0.8316567  0.84231698 0.83723048 0.85785461 0.86551907 0.84057516\n",
      " 0.82970563 0.8356978  0.84468591 0.81597956 0.80531907 0.80713064\n",
      " 0.81075389 0.82845152 0.81904524 0.82782441 0.83653395 0.85451026\n",
      " 0.86496172 0.86078101 0.87060536 0.87694586 0.86398629 0.86308029\n",
      " 0.85214112 0.84301362 0.84036602 0.82238981 0.82322585 0.82629152\n",
      " 0.80998749 0.78065394 0.78992083 0.80434364 0.80768821 0.82998431\n",
      " 0.85506762 0.84865737 0.86663379 0.88467996 0.89213517 0.88879071\n",
      " 0.91830228 0.90713941 0.92555808 0.92953478 0.94139536 0.94125586\n",
      " 0.95353483 0.9478837  0.95255801 0.94320939 0.94195357 0.94620928\n",
      " 0.93902322 0.94306968 0.95206987 0.93944194 0.96727908 0.95960467\n",
      " 0.97320932 0.98325576 0.96560466 0.97627917 0.99895354 1.\n",
      " 0.99623265 0.98451157 0.99183723 0.97711638 0.9760696  0.9685349\n",
      " 0.9646977  0.96539541 0.96839551 0.96106963 0.95293939 0.95078731\n",
      " 0.94816822 0.9454838  0.94296104 0.94068688 0.93867356 0.9368999\n",
      " 0.93533248 0.93393409 0.9326669  0.93149489 0.93038476 0.92930621\n",
      " 0.92823321 0.92714459 0.9260236  0.92485839]\n",
      "\n",
      "--------------------------------------------\n",
      "18 day output [[0.92364144]]\n",
      "19 day input [0.89227435 0.85499797 0.85931776 0.86753957 0.8462188  0.8316567\n",
      " 0.84231698 0.83723048 0.85785461 0.86551907 0.84057516 0.82970563\n",
      " 0.8356978  0.84468591 0.81597956 0.80531907 0.80713064 0.81075389\n",
      " 0.82845152 0.81904524 0.82782441 0.83653395 0.85451026 0.86496172\n",
      " 0.86078101 0.87060536 0.87694586 0.86398629 0.86308029 0.85214112\n",
      " 0.84301362 0.84036602 0.82238981 0.82322585 0.82629152 0.80998749\n",
      " 0.78065394 0.78992083 0.80434364 0.80768821 0.82998431 0.85506762\n",
      " 0.84865737 0.86663379 0.88467996 0.89213517 0.88879071 0.91830228\n",
      " 0.90713941 0.92555808 0.92953478 0.94139536 0.94125586 0.95353483\n",
      " 0.9478837  0.95255801 0.94320939 0.94195357 0.94620928 0.93902322\n",
      " 0.94306968 0.95206987 0.93944194 0.96727908 0.95960467 0.97320932\n",
      " 0.98325576 0.96560466 0.97627917 0.99895354 1.         0.99623265\n",
      " 0.98451157 0.99183723 0.97711638 0.9760696  0.9685349  0.9646977\n",
      " 0.96539541 0.96839551 0.96106963 0.95293939 0.95078731 0.94816822\n",
      " 0.9454838  0.94296104 0.94068688 0.93867356 0.9368999  0.93533248\n",
      " 0.93393409 0.9326669  0.93149489 0.93038476 0.92930621 0.92823321\n",
      " 0.92714459 0.9260236  0.92485839 0.92364144]\n",
      "\n",
      "--------------------------------------------\n",
      "19 day output [[0.9223701]]\n",
      "20 day input [0.85499797 0.85931776 0.86753957 0.8462188  0.8316567  0.84231698\n",
      " 0.83723048 0.85785461 0.86551907 0.84057516 0.82970563 0.8356978\n",
      " 0.84468591 0.81597956 0.80531907 0.80713064 0.81075389 0.82845152\n",
      " 0.81904524 0.82782441 0.83653395 0.85451026 0.86496172 0.86078101\n",
      " 0.87060536 0.87694586 0.86398629 0.86308029 0.85214112 0.84301362\n",
      " 0.84036602 0.82238981 0.82322585 0.82629152 0.80998749 0.78065394\n",
      " 0.78992083 0.80434364 0.80768821 0.82998431 0.85506762 0.84865737\n",
      " 0.86663379 0.88467996 0.89213517 0.88879071 0.91830228 0.90713941\n",
      " 0.92555808 0.92953478 0.94139536 0.94125586 0.95353483 0.9478837\n",
      " 0.95255801 0.94320939 0.94195357 0.94620928 0.93902322 0.94306968\n",
      " 0.95206987 0.93944194 0.96727908 0.95960467 0.97320932 0.98325576\n",
      " 0.96560466 0.97627917 0.99895354 1.         0.99623265 0.98451157\n",
      " 0.99183723 0.97711638 0.9760696  0.9685349  0.9646977  0.96539541\n",
      " 0.96839551 0.96106963 0.95293939 0.95078731 0.94816822 0.9454838\n",
      " 0.94296104 0.94068688 0.93867356 0.9368999  0.93533248 0.93393409\n",
      " 0.9326669  0.93149489 0.93038476 0.92930621 0.92823321 0.92714459\n",
      " 0.9260236  0.92485839 0.92364144 0.92237008]\n",
      "\n",
      "--------------------------------------------\n",
      "20 day output [[0.921044]]\n",
      "21 day input [0.85931776 0.86753957 0.8462188  0.8316567  0.84231698 0.83723048\n",
      " 0.85785461 0.86551907 0.84057516 0.82970563 0.8356978  0.84468591\n",
      " 0.81597956 0.80531907 0.80713064 0.81075389 0.82845152 0.81904524\n",
      " 0.82782441 0.83653395 0.85451026 0.86496172 0.86078101 0.87060536\n",
      " 0.87694586 0.86398629 0.86308029 0.85214112 0.84301362 0.84036602\n",
      " 0.82238981 0.82322585 0.82629152 0.80998749 0.78065394 0.78992083\n",
      " 0.80434364 0.80768821 0.82998431 0.85506762 0.84865737 0.86663379\n",
      " 0.88467996 0.89213517 0.88879071 0.91830228 0.90713941 0.92555808\n",
      " 0.92953478 0.94139536 0.94125586 0.95353483 0.9478837  0.95255801\n",
      " 0.94320939 0.94195357 0.94620928 0.93902322 0.94306968 0.95206987\n",
      " 0.93944194 0.96727908 0.95960467 0.97320932 0.98325576 0.96560466\n",
      " 0.97627917 0.99895354 1.         0.99623265 0.98451157 0.99183723\n",
      " 0.97711638 0.9760696  0.9685349  0.9646977  0.96539541 0.96839551\n",
      " 0.96106963 0.95293939 0.95078731 0.94816822 0.9454838  0.94296104\n",
      " 0.94068688 0.93867356 0.9368999  0.93533248 0.93393409 0.9326669\n",
      " 0.93149489 0.93038476 0.92930621 0.92823321 0.92714459 0.9260236\n",
      " 0.92485839 0.92364144 0.92237008 0.92104399]\n",
      "\n",
      "--------------------------------------------\n",
      "21 day output [[0.91966665]]\n",
      "22 day input [0.86753957 0.8462188  0.8316567  0.84231698 0.83723048 0.85785461\n",
      " 0.86551907 0.84057516 0.82970563 0.8356978  0.84468591 0.81597956\n",
      " 0.80531907 0.80713064 0.81075389 0.82845152 0.81904524 0.82782441\n",
      " 0.83653395 0.85451026 0.86496172 0.86078101 0.87060536 0.87694586\n",
      " 0.86398629 0.86308029 0.85214112 0.84301362 0.84036602 0.82238981\n",
      " 0.82322585 0.82629152 0.80998749 0.78065394 0.78992083 0.80434364\n",
      " 0.80768821 0.82998431 0.85506762 0.84865737 0.86663379 0.88467996\n",
      " 0.89213517 0.88879071 0.91830228 0.90713941 0.92555808 0.92953478\n",
      " 0.94139536 0.94125586 0.95353483 0.9478837  0.95255801 0.94320939\n",
      " 0.94195357 0.94620928 0.93902322 0.94306968 0.95206987 0.93944194\n",
      " 0.96727908 0.95960467 0.97320932 0.98325576 0.96560466 0.97627917\n",
      " 0.99895354 1.         0.99623265 0.98451157 0.99183723 0.97711638\n",
      " 0.9760696  0.9685349  0.9646977  0.96539541 0.96839551 0.96106963\n",
      " 0.95293939 0.95078731 0.94816822 0.9454838  0.94296104 0.94068688\n",
      " 0.93867356 0.9368999  0.93533248 0.93393409 0.9326669  0.93149489\n",
      " 0.93038476 0.92930621 0.92823321 0.92714459 0.9260236  0.92485839\n",
      " 0.92364144 0.92237008 0.92104399 0.91966665]\n",
      "\n",
      "--------------------------------------------\n",
      "22 day output [[0.9182444]]\n",
      "23 day input [0.8462188  0.8316567  0.84231698 0.83723048 0.85785461 0.86551907\n",
      " 0.84057516 0.82970563 0.8356978  0.84468591 0.81597956 0.80531907\n",
      " 0.80713064 0.81075389 0.82845152 0.81904524 0.82782441 0.83653395\n",
      " 0.85451026 0.86496172 0.86078101 0.87060536 0.87694586 0.86398629\n",
      " 0.86308029 0.85214112 0.84301362 0.84036602 0.82238981 0.82322585\n",
      " 0.82629152 0.80998749 0.78065394 0.78992083 0.80434364 0.80768821\n",
      " 0.82998431 0.85506762 0.84865737 0.86663379 0.88467996 0.89213517\n",
      " 0.88879071 0.91830228 0.90713941 0.92555808 0.92953478 0.94139536\n",
      " 0.94125586 0.95353483 0.9478837  0.95255801 0.94320939 0.94195357\n",
      " 0.94620928 0.93902322 0.94306968 0.95206987 0.93944194 0.96727908\n",
      " 0.95960467 0.97320932 0.98325576 0.96560466 0.97627917 0.99895354\n",
      " 1.         0.99623265 0.98451157 0.99183723 0.97711638 0.9760696\n",
      " 0.9685349  0.9646977  0.96539541 0.96839551 0.96106963 0.95293939\n",
      " 0.95078731 0.94816822 0.9454838  0.94296104 0.94068688 0.93867356\n",
      " 0.9368999  0.93533248 0.93393409 0.9326669  0.93149489 0.93038476\n",
      " 0.92930621 0.92823321 0.92714459 0.9260236  0.92485839 0.92364144\n",
      " 0.92237008 0.92104399 0.91966665 0.91824442]\n",
      "\n",
      "--------------------------------------------\n",
      "23 day output [[0.9167841]]\n",
      "24 day input [0.8316567  0.84231698 0.83723048 0.85785461 0.86551907 0.84057516\n",
      " 0.82970563 0.8356978  0.84468591 0.81597956 0.80531907 0.80713064\n",
      " 0.81075389 0.82845152 0.81904524 0.82782441 0.83653395 0.85451026\n",
      " 0.86496172 0.86078101 0.87060536 0.87694586 0.86398629 0.86308029\n",
      " 0.85214112 0.84301362 0.84036602 0.82238981 0.82322585 0.82629152\n",
      " 0.80998749 0.78065394 0.78992083 0.80434364 0.80768821 0.82998431\n",
      " 0.85506762 0.84865737 0.86663379 0.88467996 0.89213517 0.88879071\n",
      " 0.91830228 0.90713941 0.92555808 0.92953478 0.94139536 0.94125586\n",
      " 0.95353483 0.9478837  0.95255801 0.94320939 0.94195357 0.94620928\n",
      " 0.93902322 0.94306968 0.95206987 0.93944194 0.96727908 0.95960467\n",
      " 0.97320932 0.98325576 0.96560466 0.97627917 0.99895354 1.\n",
      " 0.99623265 0.98451157 0.99183723 0.97711638 0.9760696  0.9685349\n",
      " 0.9646977  0.96539541 0.96839551 0.96106963 0.95293939 0.95078731\n",
      " 0.94816822 0.9454838  0.94296104 0.94068688 0.93867356 0.9368999\n",
      " 0.93533248 0.93393409 0.9326669  0.93149489 0.93038476 0.92930621\n",
      " 0.92823321 0.92714459 0.9260236  0.92485839 0.92364144 0.92237008\n",
      " 0.92104399 0.91966665 0.91824442 0.91678411]\n",
      "\n",
      "--------------------------------------------\n",
      "24 day output [[0.9152947]]\n",
      "25 day input [0.84231698 0.83723048 0.85785461 0.86551907 0.84057516 0.82970563\n",
      " 0.8356978  0.84468591 0.81597956 0.80531907 0.80713064 0.81075389\n",
      " 0.82845152 0.81904524 0.82782441 0.83653395 0.85451026 0.86496172\n",
      " 0.86078101 0.87060536 0.87694586 0.86398629 0.86308029 0.85214112\n",
      " 0.84301362 0.84036602 0.82238981 0.82322585 0.82629152 0.80998749\n",
      " 0.78065394 0.78992083 0.80434364 0.80768821 0.82998431 0.85506762\n",
      " 0.84865737 0.86663379 0.88467996 0.89213517 0.88879071 0.91830228\n",
      " 0.90713941 0.92555808 0.92953478 0.94139536 0.94125586 0.95353483\n",
      " 0.9478837  0.95255801 0.94320939 0.94195357 0.94620928 0.93902322\n",
      " 0.94306968 0.95206987 0.93944194 0.96727908 0.95960467 0.97320932\n",
      " 0.98325576 0.96560466 0.97627917 0.99895354 1.         0.99623265\n",
      " 0.98451157 0.99183723 0.97711638 0.9760696  0.9685349  0.9646977\n",
      " 0.96539541 0.96839551 0.96106963 0.95293939 0.95078731 0.94816822\n",
      " 0.9454838  0.94296104 0.94068688 0.93867356 0.9368999  0.93533248\n",
      " 0.93393409 0.9326669  0.93149489 0.93038476 0.92930621 0.92823321\n",
      " 0.92714459 0.9260236  0.92485839 0.92364144 0.92237008 0.92104399\n",
      " 0.91966665 0.91824442 0.91678411 0.91529471]\n",
      "\n",
      "--------------------------------------------\n",
      "25 day output [[0.9137856]]\n",
      "26 day input [0.83723048 0.85785461 0.86551907 0.84057516 0.82970563 0.8356978\n",
      " 0.84468591 0.81597956 0.80531907 0.80713064 0.81075389 0.82845152\n",
      " 0.81904524 0.82782441 0.83653395 0.85451026 0.86496172 0.86078101\n",
      " 0.87060536 0.87694586 0.86398629 0.86308029 0.85214112 0.84301362\n",
      " 0.84036602 0.82238981 0.82322585 0.82629152 0.80998749 0.78065394\n",
      " 0.78992083 0.80434364 0.80768821 0.82998431 0.85506762 0.84865737\n",
      " 0.86663379 0.88467996 0.89213517 0.88879071 0.91830228 0.90713941\n",
      " 0.92555808 0.92953478 0.94139536 0.94125586 0.95353483 0.9478837\n",
      " 0.95255801 0.94320939 0.94195357 0.94620928 0.93902322 0.94306968\n",
      " 0.95206987 0.93944194 0.96727908 0.95960467 0.97320932 0.98325576\n",
      " 0.96560466 0.97627917 0.99895354 1.         0.99623265 0.98451157\n",
      " 0.99183723 0.97711638 0.9760696  0.9685349  0.9646977  0.96539541\n",
      " 0.96839551 0.96106963 0.95293939 0.95078731 0.94816822 0.9454838\n",
      " 0.94296104 0.94068688 0.93867356 0.9368999  0.93533248 0.93393409\n",
      " 0.9326669  0.93149489 0.93038476 0.92930621 0.92823321 0.92714459\n",
      " 0.9260236  0.92485839 0.92364144 0.92237008 0.92104399 0.91966665\n",
      " 0.91824442 0.91678411 0.91529471 0.91378558]\n",
      "\n",
      "--------------------------------------------\n",
      "26 day output [[0.9122659]]\n",
      "27 day input [0.85785461 0.86551907 0.84057516 0.82970563 0.8356978  0.84468591\n",
      " 0.81597956 0.80531907 0.80713064 0.81075389 0.82845152 0.81904524\n",
      " 0.82782441 0.83653395 0.85451026 0.86496172 0.86078101 0.87060536\n",
      " 0.87694586 0.86398629 0.86308029 0.85214112 0.84301362 0.84036602\n",
      " 0.82238981 0.82322585 0.82629152 0.80998749 0.78065394 0.78992083\n",
      " 0.80434364 0.80768821 0.82998431 0.85506762 0.84865737 0.86663379\n",
      " 0.88467996 0.89213517 0.88879071 0.91830228 0.90713941 0.92555808\n",
      " 0.92953478 0.94139536 0.94125586 0.95353483 0.9478837  0.95255801\n",
      " 0.94320939 0.94195357 0.94620928 0.93902322 0.94306968 0.95206987\n",
      " 0.93944194 0.96727908 0.95960467 0.97320932 0.98325576 0.96560466\n",
      " 0.97627917 0.99895354 1.         0.99623265 0.98451157 0.99183723\n",
      " 0.97711638 0.9760696  0.9685349  0.9646977  0.96539541 0.96839551\n",
      " 0.96106963 0.95293939 0.95078731 0.94816822 0.9454838  0.94296104\n",
      " 0.94068688 0.93867356 0.9368999  0.93533248 0.93393409 0.9326669\n",
      " 0.93149489 0.93038476 0.92930621 0.92823321 0.92714459 0.9260236\n",
      " 0.92485839 0.92364144 0.92237008 0.92104399 0.91966665 0.91824442\n",
      " 0.91678411 0.91529471 0.91378558 0.9122659 ]\n",
      "\n",
      "--------------------------------------------\n",
      "27 day output [[0.9107449]]\n",
      "28 day input [0.86551907 0.84057516 0.82970563 0.8356978  0.84468591 0.81597956\n",
      " 0.80531907 0.80713064 0.81075389 0.82845152 0.81904524 0.82782441\n",
      " 0.83653395 0.85451026 0.86496172 0.86078101 0.87060536 0.87694586\n",
      " 0.86398629 0.86308029 0.85214112 0.84301362 0.84036602 0.82238981\n",
      " 0.82322585 0.82629152 0.80998749 0.78065394 0.78992083 0.80434364\n",
      " 0.80768821 0.82998431 0.85506762 0.84865737 0.86663379 0.88467996\n",
      " 0.89213517 0.88879071 0.91830228 0.90713941 0.92555808 0.92953478\n",
      " 0.94139536 0.94125586 0.95353483 0.9478837  0.95255801 0.94320939\n",
      " 0.94195357 0.94620928 0.93902322 0.94306968 0.95206987 0.93944194\n",
      " 0.96727908 0.95960467 0.97320932 0.98325576 0.96560466 0.97627917\n",
      " 0.99895354 1.         0.99623265 0.98451157 0.99183723 0.97711638\n",
      " 0.9760696  0.9685349  0.9646977  0.96539541 0.96839551 0.96106963\n",
      " 0.95293939 0.95078731 0.94816822 0.9454838  0.94296104 0.94068688\n",
      " 0.93867356 0.9368999  0.93533248 0.93393409 0.9326669  0.93149489\n",
      " 0.93038476 0.92930621 0.92823321 0.92714459 0.9260236  0.92485839\n",
      " 0.92364144 0.92237008 0.92104399 0.91966665 0.91824442 0.91678411\n",
      " 0.91529471 0.91378558 0.9122659  0.91074491]\n",
      "\n",
      "--------------------------------------------\n",
      "28 day output [[0.90923053]]\n",
      "29 day input [0.84057516 0.82970563 0.8356978  0.84468591 0.81597956 0.80531907\n",
      " 0.80713064 0.81075389 0.82845152 0.81904524 0.82782441 0.83653395\n",
      " 0.85451026 0.86496172 0.86078101 0.87060536 0.87694586 0.86398629\n",
      " 0.86308029 0.85214112 0.84301362 0.84036602 0.82238981 0.82322585\n",
      " 0.82629152 0.80998749 0.78065394 0.78992083 0.80434364 0.80768821\n",
      " 0.82998431 0.85506762 0.84865737 0.86663379 0.88467996 0.89213517\n",
      " 0.88879071 0.91830228 0.90713941 0.92555808 0.92953478 0.94139536\n",
      " 0.94125586 0.95353483 0.9478837  0.95255801 0.94320939 0.94195357\n",
      " 0.94620928 0.93902322 0.94306968 0.95206987 0.93944194 0.96727908\n",
      " 0.95960467 0.97320932 0.98325576 0.96560466 0.97627917 0.99895354\n",
      " 1.         0.99623265 0.98451157 0.99183723 0.97711638 0.9760696\n",
      " 0.9685349  0.9646977  0.96539541 0.96839551 0.96106963 0.95293939\n",
      " 0.95078731 0.94816822 0.9454838  0.94296104 0.94068688 0.93867356\n",
      " 0.9368999  0.93533248 0.93393409 0.9326669  0.93149489 0.93038476\n",
      " 0.92930621 0.92823321 0.92714459 0.9260236  0.92485839 0.92364144\n",
      " 0.92237008 0.92104399 0.91966665 0.91824442 0.91678411 0.91529471\n",
      " 0.91378558 0.9122659  0.91074491 0.90923053]\n",
      "\n",
      "--------------------------------------------\n",
      "29 day output [[0.90773034]]\n",
      "[[0.9529393911361694], [0.9507873058319092], [0.9481682181358337], [0.9454838037490845], [0.9429610371589661], [0.9406868815422058], [0.9386735558509827], [0.9368999004364014], [0.9353324770927429], [0.9339340925216675], [0.9326668977737427], [0.9314948916435242], [0.9303847551345825], [0.9293062090873718], [0.9282332062721252], [0.9271445870399475], [0.9260236024856567], [0.9248583912849426], [0.9236414432525635], [0.9223700761795044], [0.9210439920425415], [0.9196666479110718], [0.9182444214820862], [0.9167841076850891], [0.9152947068214417], [0.9137855768203735], [0.9122658967971802], [0.9107449054718018], [0.9092305302619934], [0.9077303409576416]]\n"
     ]
    }
   ],
   "source": [
    "from numpy import array\n",
    "\n",
    "lst_output=[]\n",
    "n_steps=100\n",
    "i=0\n",
    "while(i<30):\n",
    "    \n",
    "    if(len(temp_input)>100):\n",
    "        #print(temp_input)\n",
    "        X_input=np.array(temp_input[1:])\n",
    "        print(\"{} day input {}\".format(i,X_input))\n",
    "        print('\\n--------------------------------------------')\n",
    "        X_input=X_input.reshape(1,-1)\n",
    "        X_input = X_input.reshape((1, n_steps, 1))\n",
    "        #print(x_input)\n",
    "        yhat = model.predict(X_input, verbose=0)\n",
    "        print(\"{} day output {}\".format(i,yhat))\n",
    "        temp_input.extend(yhat[0].tolist())\n",
    "        temp_input=temp_input[1:]\n",
    "        #print(temp_input)\n",
    "        lst_output.extend(yhat.tolist())\n",
    "        i=i+1\n",
    "    else:\n",
    "        X_input = X_input.reshape((1, n_steps,1)) # model accepts batches so reshaped\n",
    "        yhat = model.predict(X_input, verbose=0)\n",
    "        print(yhat[0])\n",
    "        temp_input.extend(yhat[0].tolist())\n",
    "        print(len(temp_input))\n",
    "        lst_output.extend(yhat.tolist())\n",
    "        i=i+1\n",
    "    \n",
    "\n",
    "print(lst_output)"
   ]
  },
  {
   "cell_type": "code",
   "execution_count": 230,
   "id": "a6e4c0e9-590f-4a34-81cc-4ab1692656ad",
   "metadata": {},
   "outputs": [],
   "source": [
    "day_new=np.arange(1,101) # 100 rows taken from test\n",
    "day_pred=np.arange(101,131) # 30 rows to predict"
   ]
  },
  {
   "cell_type": "code",
   "execution_count": 231,
   "id": "1df8c76b-7025-4c9e-a601-54105d8d880f",
   "metadata": {},
   "outputs": [
    {
     "data": {
      "text/plain": [
       "1006"
      ]
     },
     "execution_count": 231,
     "metadata": {},
     "output_type": "execute_result"
    }
   ],
   "source": [
    "len(df2)"
   ]
  },
  {
   "cell_type": "code",
   "execution_count": 232,
   "id": "f61b178e-ea6d-4353-98e4-a0b04d379050",
   "metadata": {},
   "outputs": [
    {
     "data": {
      "image/png": "[encoded data removed]",
      "text/plain": [
       "<Figure size 640x480 with 1 Axes>"
      ]
     },
     "metadata": {},
     "output_type": "display_data"
    }
   ],
   "source": [
    "import matplotlib.pyplot as plt\n",
    "\n",
    "plt.plot(day_new,scaler.inverse_transform(df2[906:]), color='red') # len(df2) - 100\n",
    "plt.plot(day_pred,scaler.inverse_transform(lst_output), color='yellow')\n",
    "plt.show()"
   ]
  },
  {
   "cell_type": "code",
   "execution_count": 233,
   "id": "cd9d1040-c44c-420a-a0ab-f0b5b2d974c5",
   "metadata": {},
   "outputs": [
    {
     "data": {
      "text/plain": [
       "[<matplotlib.lines.Line2D at 0x171d536d7c0>]"
      ]
     },
     "execution_count": 233,
     "metadata": {},
     "output_type": "execute_result"
    },
    {
     "data": {
      "image/png": "[encoded data removed]",
      "text/plain": [
       "<Figure size 640x480 with 1 Axes>"
      ]
     },
     "metadata": {},
     "output_type": "display_data"
    }
   ],
   "source": [
    "df3=df2.tolist()\n",
    "df3.extend(lst_output)\n",
    "# plt.plot(df3[800:])\n",
    "plt.plot(df3)"
   ]
  },
  {
   "cell_type": "code",
   "execution_count": 234,
   "id": "2e3074a9-2f41-4b95-be21-01ac60a0bf38",
   "metadata": {},
   "outputs": [
    {
     "data": {
      "text/plain": [
       "[<matplotlib.lines.Line2D at 0x171d52250a0>]"
      ]
     },
     "execution_count": 234,
     "metadata": {},
     "output_type": "execute_result"
    },
    {
     "data": {
      "image/png": "[encoded data removed]",
      "text/plain": [
       "<Figure size 640x480 with 1 Axes>"
      ]
     },
     "metadata": {},
     "output_type": "display_data"
    }
   ],
   "source": [
    "df3=scaler.inverse_transform(df3).tolist()\n",
    "plt.plot(df3)"
   ]
  },
  {
   "cell_type": "code",
   "execution_count": null,
   "id": "36bb3c4f-2c39-4f8c-88d6-ba6754ed6efc",
   "metadata": {},
   "outputs": [],
   "source": []
  }
 ],
 "metadata": {
  "kernelspec": {
   "display_name": "Python 3 (ipykernel)",
   "language": "python",
   "name": "python3"
  },
  "language_info": {
   "codemirror_mode": {
    "name": "ipython",
    "version": 3
   },
   "file_extension": ".py",
   "mimetype": "text/x-python",
   "name": "python",
   "nbconvert_exporter": "python",
   "pygments_lexer": "ipython3",
   "version": "3.9.21"
  }
 },
 "nbformat": 4,
 "nbformat_minor": 5
}

{
 "cells": [
  {
   "cell_type": "code",
   "execution_count": 2,
   "id": "32d35705-a320-417e-8033-58fdb779b5d7",
   "metadata": {},
   "outputs": [],
   "source": [
    "import pandas_datareader as pdr"
   ]
  },
  {
   "cell_type": "code",
   "execution_count": 3,
   "id": "742de517-1cb8-4516-9dbe-9d3e98a3229c",
   "metadata": {},
   "outputs": [],
   "source": [
    "key = 'cba82d250fdf31bcb28e0911d44e34f1ab8f5546'"
   ]
  },
  {
   "cell_type": "code",
   "execution_count": 21,
   "id": "e6f23a04-089f-47e7-a9b1-7eba36a3cabe",
   "metadata": {},
   "outputs": [],
   "source": [
    "# data = pdr.get_data_tiingo('AAPL', api_key=key)"
   ]
  },
  {
   "cell_type": "code",
   "execution_count": 14,
   "id": "75456330-c71f-4f9a-9bc9-4eb206fff228",
   "metadata": {},
   "outputs": [
    {
     "name": "stderr",
     "output_type": "stream",
     "text": [
      "[*********************100%***********************]  1 of 1 completed\n"
     ]
    }
   ],
   "source": [
    "import yfinance as yf\n",
    "df = yf.download('AAPL', start='2020-01-01', end='2024-01-01')"
   ]
  },
  {
   "cell_type": "code",
   "execution_count": 15,
   "id": "8fc3c858-1231-456a-9b5e-5a5159ecdc53",
   "metadata": {},
   "outputs": [
    {
     "data": {
      "text/html": [
       "<div>\n",
       "<style scoped>\n",
       "    .dataframe tbody tr th:only-of-type {\n",
       "        vertical-align: middle;\n",
       "    }\n",
       "\n",
       "    .dataframe tbody tr th {\n",
       "        vertical-align: top;\n",
       "    }\n",
       "\n",
       "    .dataframe thead tr th {\n",
       "        text-align: left;\n",
       "    }\n",
       "\n",
       "    .dataframe thead tr:last-of-type th {\n",
       "        text-align: right;\n",
       "    }\n",
       "</style>\n",
       "<table border=\"1\" class=\"dataframe\">\n",
       "  <thead>\n",
       "    <tr>\n",
       "      <th>Price</th>\n",
       "      <th>Close</th>\n",
       "      <th>High</th>\n",
       "      <th>Low</th>\n",
       "      <th>Open</th>\n",
       "      <th>Volume</th>\n",
       "    </tr>\n",
       "    <tr>\n",
       "      <th>Ticker</th>\n",
       "      <th>AAPL</th>\n",
       "      <th>AAPL</th>\n",
       "      <th>AAPL</th>\n",
       "      <th>AAPL</th>\n",
       "      <th>AAPL</th>\n",
       "    </tr>\n",
       "    <tr>\n",
       "      <th>Date</th>\n",
       "      <th></th>\n",
       "      <th></th>\n",
       "      <th></th>\n",
       "      <th></th>\n",
       "      <th></th>\n",
       "    </tr>\n",
       "  </thead>\n",
       "  <tbody>\n",
       "    <tr>\n",
       "      <th>2020-01-02</th>\n",
       "      <td>72.796005</td>\n",
       "      <td>72.856598</td>\n",
       "      <td>71.545372</td>\n",
       "      <td>71.799858</td>\n",
       "      <td>135480400</td>\n",
       "    </tr>\n",
       "    <tr>\n",
       "      <th>2020-01-03</th>\n",
       "      <td>72.088310</td>\n",
       "      <td>72.851776</td>\n",
       "      <td>71.862907</td>\n",
       "      <td>72.020447</td>\n",
       "      <td>146322800</td>\n",
       "    </tr>\n",
       "    <tr>\n",
       "      <th>2020-01-06</th>\n",
       "      <td>72.662697</td>\n",
       "      <td>72.701477</td>\n",
       "      <td>70.953987</td>\n",
       "      <td>71.206055</td>\n",
       "      <td>118387200</td>\n",
       "    </tr>\n",
       "    <tr>\n",
       "      <th>2020-01-07</th>\n",
       "      <td>72.320976</td>\n",
       "      <td>72.929322</td>\n",
       "      <td>72.100418</td>\n",
       "      <td>72.672409</td>\n",
       "      <td>108872000</td>\n",
       "    </tr>\n",
       "    <tr>\n",
       "      <th>2020-01-08</th>\n",
       "      <td>73.484337</td>\n",
       "      <td>73.787300</td>\n",
       "      <td>72.022843</td>\n",
       "      <td>72.022843</td>\n",
       "      <td>132079200</td>\n",
       "    </tr>\n",
       "  </tbody>\n",
       "</table>\n",
       "</div>"
      ],
      "text/plain": [
       "Price           Close       High        Low       Open     Volume\n",
       "Ticker           AAPL       AAPL       AAPL       AAPL       AAPL\n",
       "Date                                                             \n",
       "2020-01-02  72.796005  72.856598  71.545372  71.799858  135480400\n",
       "2020-01-03  72.088310  72.851776  71.862907  72.020447  146322800\n",
       "2020-01-06  72.662697  72.701477  70.953987  71.206055  118387200\n",
       "2020-01-07  72.320976  72.929322  72.100418  72.672409  108872000\n",
       "2020-01-08  73.484337  73.787300  72.022843  72.022843  132079200"
      ]
     },
     "execution_count": 15,
     "metadata": {},
     "output_type": "execute_result"
    }
   ],
   "source": [
    "df.head()"
   ]
  },
  {
   "cell_type": "code",
   "execution_count": 22,
   "id": "d8c5d627-1e42-41d6-b878-972f6f7b5697",
   "metadata": {},
   "outputs": [],
   "source": [
    "df.to_csv('AAPL.csv')"
   ]
  },
  {
   "cell_type": "code",
   "execution_count": 24,
   "id": "6218b14e-e058-46f8-afb2-6604f77f0bff",
   "metadata": {},
   "outputs": [],
   "source": [
    "df2 = df.reset_index()['Close']"
   ]
  },
  {
   "cell_type": "code",
   "execution_count": 28,
   "id": "4613a556-dfb8-4e72-898f-d66cec7925d2",
   "metadata": {},
   "outputs": [
    {
     "data": {
      "text/html": [
       "<div>\n",
       "<style scoped>\n",
       "    .dataframe tbody tr th:only-of-type {\n",
       "        vertical-align: middle;\n",
       "    }\n",
       "\n",
       "    .dataframe tbody tr th {\n",
       "        vertical-align: top;\n",
       "    }\n",
       "\n",
       "    .dataframe thead th {\n",
       "        text-align: right;\n",
       "    }\n",
       "</style>\n",
       "<table border=\"1\" class=\"dataframe\">\n",
       "  <thead>\n",
       "    <tr style=\"text-align: right;\">\n",
       "      <th>Ticker</th>\n",
       "      <th>AAPL</th>\n",
       "    </tr>\n",
       "  </thead>\n",
       "  <tbody>\n",
       "    <tr>\n",
       "      <th>0</th>\n",
       "      <td>72.796005</td>\n",
       "    </tr>\n",
       "    <tr>\n",
       "      <th>1</th>\n",
       "      <td>72.088310</td>\n",
       "    </tr>\n",
       "    <tr>\n",
       "      <th>2</th>\n",
       "      <td>72.662697</td>\n",
       "    </tr>\n",
       "    <tr>\n",
       "      <th>3</th>\n",
       "      <td>72.320976</td>\n",
       "    </tr>\n",
       "    <tr>\n",
       "      <th>4</th>\n",
       "      <td>73.484337</td>\n",
       "    </tr>\n",
       "    <tr>\n",
       "      <th>...</th>\n",
       "      <td>...</td>\n",
       "    </tr>\n",
       "    <tr>\n",
       "      <th>1001</th>\n",
       "      <td>192.656189</td>\n",
       "    </tr>\n",
       "    <tr>\n",
       "      <th>1002</th>\n",
       "      <td>192.108856</td>\n",
       "    </tr>\n",
       "    <tr>\n",
       "      <th>1003</th>\n",
       "      <td>192.208359</td>\n",
       "    </tr>\n",
       "    <tr>\n",
       "      <th>1004</th>\n",
       "      <td>192.636261</td>\n",
       "    </tr>\n",
       "    <tr>\n",
       "      <th>1005</th>\n",
       "      <td>191.591385</td>\n",
       "    </tr>\n",
       "  </tbody>\n",
       "</table>\n",
       "<p>1006 rows × 1 columns</p>\n",
       "</div>"
      ],
      "text/plain": [
       "Ticker        AAPL\n",
       "0        72.796005\n",
       "1        72.088310\n",
       "2        72.662697\n",
       "3        72.320976\n",
       "4        73.484337\n",
       "...            ...\n",
       "1001    192.656189\n",
       "1002    192.108856\n",
       "1003    192.208359\n",
       "1004    192.636261\n",
       "1005    191.591385\n",
       "\n",
       "[1006 rows x 1 columns]"
      ]
     },
     "execution_count": 28,
     "metadata": {},
     "output_type": "execute_result"
    }
   ],
   "source": [
    "df2"
   ]
  },
  {
   "cell_type": "code",
   "execution_count": 29,
   "id": "0b634c49-3c10-4de7-a51d-dfde77d65863",
   "metadata": {},
   "outputs": [
    {
     "data": {
      "text/plain": [
       "[<matplotlib.lines.Line2D at 0x2b7f6d1efd0>]"
      ]
     },
     "execution_count": 29,
     "metadata": {},
     "output_type": "execute_result"
    },
    {
     "data": {
      "image/png": "[encoded data removed]",
      "text/plain": [
       "<Figure size 640x480 with 1 Axes>"
      ]
     },
     "metadata": {},
     "output_type": "display_data"
    }
   ],
   "source": [
    "import matplotlib.pyplot as plt\n",
    "plt.plot(df2)"
   ]
  },
  {
   "cell_type": "code",
   "execution_count": 30,
   "id": "1fdaf498-a727-4670-abdf-95b67be7557b",
   "metadata": {},
   "outputs": [],
   "source": [
    "# LSTM are sensitive to scale of data, apply min-max scalar"
   ]
  },
  {
   "cell_type": "code",
   "execution_count": 33,
   "id": "76f26660-4def-4923-84cf-f1eea6a8ab3b",
   "metadata": {},
   "outputs": [],
   "source": [
    "import numpy as np\n",
    "from sklearn.preprocessing import MinMaxScaler\n",
    "\n",
    "scaler = MinMaxScaler(feature_range=(0,1))\n",
    "df2 = scaler.fit_transform(np.array(df2).reshape(-1,1))"
   ]
  },
  {
   "cell_type": "code",
   "execution_count": 34,
   "id": "2e916b8a-1b07-4422-8e57-8a9974204d36",
   "metadata": {},
   "outputs": [
    {
     "data": {
      "text/plain": [
       "(1006, 1)"
      ]
     },
     "execution_count": 34,
     "metadata": {},
     "output_type": "execute_result"
    }
   ],
   "source": [
    "df2.shape"
   ]
  },
  {
   "cell_type": "code",
   "execution_count": 35,
   "id": "b723eb35-c989-4e20-9efd-a6873d92f568",
   "metadata": {},
   "outputs": [
    {
     "data": {
      "text/plain": [
       "array([[0.12820368],\n",
       "       [0.12324208],\n",
       "       [0.12726906],\n",
       "       ...,\n",
       "       [0.9653953 ],\n",
       "       [0.96839529],\n",
       "       [0.96106974]])"
      ]
     },
     "execution_count": 35,
     "metadata": {},
     "output_type": "execute_result"
    }
   ],
   "source": [
    "df2"
   ]
  },
  {
   "cell_type": "code",
   "execution_count": 50,
   "id": "8590d2fb-a0d8-4555-b96e-927dce51388e",
   "metadata": {},
   "outputs": [],
   "source": [
    "train_size = int(len(df2)*0.65)\n",
    "test_size = len(df2) - train_size\n",
    "train_data, test_data = df2[0:train_size,:], df2[train_size:len(df2),:]"
   ]
  },
  {
   "cell_type": "code",
   "execution_count": 98,
   "id": "c43c2425-580d-4a67-84b9-6d3f084e8a3c",
   "metadata": {},
   "outputs": [
    {
     "data": {
      "text/plain": [
       "(653, 353, 1006)"
      ]
     },
     "execution_count": 98,
     "metadata": {},
     "output_type": "execute_result"
    }
   ],
   "source": [
    "train_size, test_size, len(df)"
   ]
  },
  {
   "cell_type": "code",
   "execution_count": 51,
   "id": "1cb23d48-283d-4d2b-b6b2-03e5cae02aa3",
   "metadata": {},
   "outputs": [],
   "source": [
    "def create_dataset(dataset, time_step=1):\n",
    "    dataX, dataY = [], []\n",
    "    for i in range(len(dataset)-time_step-1):\n",
    "        a = dataset[i:(i+time_step),0]\n",
    "        dataX.append(a)\n",
    "        dataY.append(dataset[i+time_step, 0])\n",
    "    return np.array(dataX), np.array(dataY)"
   ]
  },
  {
   "cell_type": "code",
   "execution_count": 56,
   "id": "cd46ddb8-2a97-4f39-baab-14250aac5a17",
   "metadata": {},
   "outputs": [],
   "source": [
    "time_step = 100\n",
    "X_train, y_train = create_dataset(train_data, time_step)\n",
    "X_test, y_test = create_dataset(test_data, time_step)"
   ]
  },
  {
   "cell_type": "code",
   "execution_count": 57,
   "id": "5954a3c7-230a-4a39-8898-358daaa21c0d",
   "metadata": {},
   "outputs": [
    {
     "data": {
      "text/plain": [
       "((552, 100), (252, 100))"
      ]
     },
     "execution_count": 57,
     "metadata": {},
     "output_type": "execute_result"
    }
   ],
   "source": [
    "X_train.shape, X_test.shape"
   ]
  },
  {
   "cell_type": "code",
   "execution_count": 58,
   "id": "9f373453-40c0-466b-8a0a-9bfec9532f80",
   "metadata": {},
   "outputs": [
    {
     "data": {
      "text/plain": [
       "((552,), (252,))"
      ]
     },
     "execution_count": 58,
     "metadata": {},
     "output_type": "execute_result"
    }
   ],
   "source": [
    "y_train.shape, y_test.shape"
   ]
  },
  {
   "cell_type": "code",
   "execution_count": 59,
   "id": "2cdcc24b-66a2-4a45-8258-77abba879099",
   "metadata": {},
   "outputs": [],
   "source": [
    "# reshape input to be [samples, timesteps, features] required for LSTM\n",
    "\n",
    "X_train = X_train.reshape(X_train.shape[0], X_train.shape[1], 1)\n",
    "X_test = X_test.reshape(X_test.shape[0], X_test.shape[1], 1)"
   ]
  },
  {
   "cell_type": "code",
   "execution_count": 60,
   "id": "fb98d157-0111-41d2-b695-934393336501",
   "metadata": {},
   "outputs": [],
   "source": [
    "from tensorflow.keras.models import Sequential\n",
    "from tensorflow.keras.layers import LSTM, Dense"
   ]
  },
  {
   "cell_type": "code",
   "execution_count": 63,
   "id": "9818bab3-b31d-43aa-a742-adbf8c0e2a4a",
   "metadata": {},
   "outputs": [],
   "source": [
    "model = Sequential()\n",
    "model.add(LSTM(50, return_sequences=True,input_shape=(100,1)))\n",
    "model.add(LSTM(50, return_sequences=True))\n",
    "model.add(LSTM(50))\n",
    "model.add(Dense(1))\n",
    "model.compile(loss='mean_squared_error', optimizer='adam')"
   ]
  },
  {
   "cell_type": "code",
   "execution_count": 64,
   "id": "f4183da4-89d1-4e79-9c7c-fd409099edcd",
   "metadata": {},
   "outputs": [
    {
     "data": {
      "text/html": [
       "<pre style=\"white-space:pre;overflow-x:auto;line-height:normal;font-family:Menlo,'DejaVu Sans Mono',consolas,'Courier New',monospace\"><span style=\"font-weight: bold\">Model: \"sequential_2\"</span>\n",
       "</pre>\n"
      ],
      "text/plain": [
       "\u001b[1mModel: \"sequential_2\"\u001b[0m\n"
      ]
     },
     "metadata": {},
     "output_type": "display_data"
    },
    {
     "data": {
      "text/html": [
       "<pre style=\"white-space:pre;overflow-x:auto;line-height:normal;font-family:Menlo,'DejaVu Sans Mono',consolas,'Courier New',monospace\">┏━━━━━━━━━━━━━━━━━━━━━━━━━━━━━━━━━━━━━━┳━━━━━━━━━━━━━━━━━━━━━━━━━━━━━┳━━━━━━━━━━━━━━━━━┓\n",
       "┃<span style=\"font-weight: bold\"> Layer (type)                         </span>┃<span style=\"font-weight: bold\"> Output Shape                </span>┃<span style=\"font-weight: bold\">         Param # </span>┃\n",
       "┡━━━━━━━━━━━━━━━━━━━━━━━━━━━━━━━━━━━━━━╇━━━━━━━━━━━━━━━━━━━━━━━━━━━━━╇━━━━━━━━━━━━━━━━━┩\n",
       "│ lstm_6 (<span style=\"color: #0087ff; text-decoration-color: #0087ff\">LSTM</span>)                        │ (<span style=\"color: #00d7ff; text-decoration-color: #00d7ff\">None</span>, <span style=\"color: #00af00; text-decoration-color: #00af00\">100</span>, <span style=\"color: #00af00; text-decoration-color: #00af00\">50</span>)             │          <span style=\"color: #00af00; text-decoration-color: #00af00\">10,400</span> │\n",
       "├──────────────────────────────────────┼─────────────────────────────┼─────────────────┤\n",
       "│ lstm_7 (<span style=\"color: #0087ff; text-decoration-color: #0087ff\">LSTM</span>)                        │ (<span style=\"color: #00d7ff; text-decoration-color: #00d7ff\">None</span>, <span style=\"color: #00af00; text-decoration-color: #00af00\">100</span>, <span style=\"color: #00af00; text-decoration-color: #00af00\">50</span>)             │          <span style=\"color: #00af00; text-decoration-color: #00af00\">20,200</span> │\n",
       "├──────────────────────────────────────┼─────────────────────────────┼─────────────────┤\n",
       "│ lstm_8 (<span style=\"color: #0087ff; text-decoration-color: #0087ff\">LSTM</span>)                        │ (<span style=\"color: #00d7ff; text-decoration-color: #00d7ff\">None</span>, <span style=\"color: #00af00; text-decoration-color: #00af00\">50</span>)                  │          <span style=\"color: #00af00; text-decoration-color: #00af00\">20,200</span> │\n",
       "├──────────────────────────────────────┼─────────────────────────────┼─────────────────┤\n",
       "│ dense_2 (<span style=\"color: #0087ff; text-decoration-color: #0087ff\">Dense</span>)                      │ (<span style=\"color: #00d7ff; text-decoration-color: #00d7ff\">None</span>, <span style=\"color: #00af00; text-decoration-color: #00af00\">1</span>)                   │              <span style=\"color: #00af00; text-decoration-color: #00af00\">51</span> │\n",
       "└──────────────────────────────────────┴─────────────────────────────┴─────────────────┘\n",
       "</pre>\n"
      ],
      "text/plain": [
       "┏━━━━━━━━━━━━━━━━━━━━━━━━━━━━━━━━━━━━━━┳━━━━━━━━━━━━━━━━━━━━━━━━━━━━━┳━━━━━━━━━━━━━━━━━┓\n",
       "┃\u001b[1m \u001b[0m\u001b[1mLayer (type)                        \u001b[0m\u001b[1m \u001b[0m┃\u001b[1m \u001b[0m\u001b[1mOutput Shape               \u001b[0m\u001b[1m \u001b[0m┃\u001b[1m \u001b[0m\u001b[1m        Param #\u001b[0m\u001b[1m \u001b[0m┃\n",
       "┡━━━━━━━━━━━━━━━━━━━━━━━━━━━━━━━━━━━━━━╇━━━━━━━━━━━━━━━━━━━━━━━━━━━━━╇━━━━━━━━━━━━━━━━━┩\n",
       "│ lstm_6 (\u001b[38;5;33mLSTM\u001b[0m)                        │ (\u001b[38;5;45mNone\u001b[0m, \u001b[38;5;34m100\u001b[0m, \u001b[38;5;34m50\u001b[0m)             │          \u001b[38;5;34m10,400\u001b[0m │\n",
       "├──────────────────────────────────────┼─────────────────────────────┼─────────────────┤\n",
       "│ lstm_7 (\u001b[38;5;33mLSTM\u001b[0m)                        │ (\u001b[38;5;45mNone\u001b[0m, \u001b[38;5;34m100\u001b[0m, \u001b[38;5;34m50\u001b[0m)             │          \u001b[38;5;34m20,200\u001b[0m │\n",
       "├──────────────────────────────────────┼─────────────────────────────┼─────────────────┤\n",
       "│ lstm_8 (\u001b[38;5;33mLSTM\u001b[0m)                        │ (\u001b[38;5;45mNone\u001b[0m, \u001b[38;5;34m50\u001b[0m)                  │          \u001b[38;5;34m20,200\u001b[0m │\n",
       "├──────────────────────────────────────┼─────────────────────────────┼─────────────────┤\n",
       "│ dense_2 (\u001b[38;5;33mDense\u001b[0m)                      │ (\u001b[38;5;45mNone\u001b[0m, \u001b[38;5;34m1\u001b[0m)                   │              \u001b[38;5;34m51\u001b[0m │\n",
       "└──────────────────────────────────────┴─────────────────────────────┴─────────────────┘\n"
      ]
     },
     "metadata": {},
     "output_type": "display_data"
    },
    {
     "data": {
      "text/html": [
       "<pre style=\"white-space:pre;overflow-x:auto;line-height:normal;font-family:Menlo,'DejaVu Sans Mono',consolas,'Courier New',monospace\"><span style=\"font-weight: bold\"> Total params: </span><span style=\"color: #00af00; text-decoration-color: #00af00\">50,851</span> (198.64 KB)\n",
       "</pre>\n"
      ],
      "text/plain": [
       "\u001b[1m Total params: \u001b[0m\u001b[38;5;34m50,851\u001b[0m (198.64 KB)\n"
      ]
     },
     "metadata": {},
     "output_type": "display_data"
    },
    {
     "data": {
      "text/html": [
       "<pre style=\"white-space:pre;overflow-x:auto;line-height:normal;font-family:Menlo,'DejaVu Sans Mono',consolas,'Courier New',monospace\"><span style=\"font-weight: bold\"> Trainable params: </span><span style=\"color: #00af00; text-decoration-color: #00af00\">50,851</span> (198.64 KB)\n",
       "</pre>\n"
      ],
      "text/plain": [
       "\u001b[1m Trainable params: \u001b[0m\u001b[38;5;34m50,851\u001b[0m (198.64 KB)\n"
      ]
     },
     "metadata": {},
     "output_type": "display_data"
    },
    {
     "data": {
      "text/html": [
       "<pre style=\"white-space:pre;overflow-x:auto;line-height:normal;font-family:Menlo,'DejaVu Sans Mono',consolas,'Courier New',monospace\"><span style=\"font-weight: bold\"> Non-trainable params: </span><span style=\"color: #00af00; text-decoration-color: #00af00\">0</span> (0.00 B)\n",
       "</pre>\n"
      ],
      "text/plain": [
       "\u001b[1m Non-trainable params: \u001b[0m\u001b[38;5;34m0\u001b[0m (0.00 B)\n"
      ]
     },
     "metadata": {},
     "output_type": "display_data"
    }
   ],
   "source": [
    "model.summary()"
   ]
  },
  {
   "cell_type": "code",
   "execution_count": 66,
   "id": "4b357f97-e820-45c2-9b54-bec34dea4c12",
   "metadata": {},
   "outputs": [
    {
     "name": "stdout",
     "output_type": "stream",
     "text": [
      "Epoch 1/100\n",
      "9/9 - 33s - 4s/step - loss: 0.1098 - val_loss: 0.0064\n",
      "Epoch 2/100\n",
      "9/9 - 2s - 259ms/step - loss: 0.0156 - val_loss: 0.0473\n",
      "Epoch 3/100\n",
      "9/9 - 2s - 237ms/step - loss: 0.0083 - val_loss: 0.0042\n",
      "Epoch 4/100\n",
      "9/9 - 2s - 202ms/step - loss: 0.0059 - val_loss: 0.0262\n",
      "Epoch 5/100\n",
      "9/9 - 2s - 266ms/step - loss: 0.0048 - val_loss: 0.0062\n",
      "Epoch 6/100\n",
      "9/9 - 2s - 261ms/step - loss: 0.0036 - val_loss: 0.0131\n",
      "Epoch 7/100\n",
      "9/9 - 4s - 465ms/step - loss: 0.0033 - val_loss: 0.0058\n",
      "Epoch 8/100\n",
      "9/9 - 6s - 631ms/step - loss: 0.0028 - val_loss: 0.0050\n",
      "Epoch 9/100\n",
      "9/9 - 3s - 333ms/step - loss: 0.0025 - val_loss: 0.0052\n",
      "Epoch 10/100\n",
      "9/9 - 2s - 199ms/step - loss: 0.0023 - val_loss: 0.0032\n",
      "Epoch 11/100\n",
      "9/9 - 2s - 187ms/step - loss: 0.0023 - val_loss: 0.0046\n",
      "Epoch 12/100\n",
      "9/9 - 2s - 188ms/step - loss: 0.0023 - val_loss: 0.0026\n",
      "Epoch 13/100\n",
      "9/9 - 2s - 198ms/step - loss: 0.0023 - val_loss: 0.0024\n",
      "Epoch 14/100\n",
      "9/9 - 2s - 181ms/step - loss: 0.0023 - val_loss: 0.0032\n",
      "Epoch 15/100\n",
      "9/9 - 2s - 190ms/step - loss: 0.0022 - val_loss: 0.0033\n",
      "Epoch 16/100\n",
      "9/9 - 2s - 263ms/step - loss: 0.0023 - val_loss: 0.0026\n",
      "Epoch 17/100\n",
      "9/9 - 1s - 158ms/step - loss: 0.0022 - val_loss: 0.0046\n",
      "Epoch 18/100\n",
      "9/9 - 1s - 158ms/step - loss: 0.0022 - val_loss: 0.0032\n",
      "Epoch 19/100\n",
      "9/9 - 1s - 157ms/step - loss: 0.0021 - val_loss: 0.0019\n",
      "Epoch 20/100\n",
      "9/9 - 3s - 304ms/step - loss: 0.0021 - val_loss: 0.0019\n",
      "Epoch 21/100\n",
      "9/9 - 1s - 161ms/step - loss: 0.0021 - val_loss: 0.0017\n",
      "Epoch 22/100\n",
      "9/9 - 1s - 163ms/step - loss: 0.0022 - val_loss: 0.0020\n",
      "Epoch 23/100\n",
      "9/9 - 1s - 156ms/step - loss: 0.0021 - val_loss: 0.0019\n",
      "Epoch 24/100\n",
      "9/9 - 2s - 176ms/step - loss: 0.0023 - val_loss: 0.0019\n",
      "Epoch 25/100\n",
      "9/9 - 2s - 272ms/step - loss: 0.0020 - val_loss: 0.0032\n",
      "Epoch 26/100\n",
      "9/9 - 2s - 169ms/step - loss: 0.0021 - val_loss: 0.0031\n",
      "Epoch 27/100\n",
      "9/9 - 2s - 177ms/step - loss: 0.0021 - val_loss: 0.0042\n",
      "Epoch 28/100\n",
      "9/9 - 2s - 238ms/step - loss: 0.0020 - val_loss: 0.0028\n",
      "Epoch 29/100\n",
      "9/9 - 1s - 163ms/step - loss: 0.0018 - val_loss: 0.0024\n",
      "Epoch 30/100\n",
      "9/9 - 2s - 177ms/step - loss: 0.0019 - val_loss: 0.0016\n",
      "Epoch 31/100\n",
      "9/9 - 1s - 160ms/step - loss: 0.0019 - val_loss: 0.0014\n",
      "Epoch 32/100\n",
      "9/9 - 2s - 186ms/step - loss: 0.0019 - val_loss: 0.0015\n",
      "Epoch 33/100\n",
      "9/9 - 3s - 294ms/step - loss: 0.0023 - val_loss: 0.0014\n",
      "Epoch 34/100\n",
      "9/9 - 2s - 261ms/step - loss: 0.0021 - val_loss: 0.0015\n",
      "Epoch 35/100\n",
      "9/9 - 3s - 335ms/step - loss: 0.0019 - val_loss: 0.0014\n",
      "Epoch 36/100\n",
      "9/9 - 1s - 161ms/step - loss: 0.0019 - val_loss: 0.0013\n",
      "Epoch 37/100\n",
      "9/9 - 1s - 161ms/step - loss: 0.0020 - val_loss: 0.0013\n",
      "Epoch 38/100\n",
      "9/9 - 1s - 161ms/step - loss: 0.0017 - val_loss: 0.0018\n",
      "Epoch 39/100\n",
      "9/9 - 1s - 163ms/step - loss: 0.0016 - val_loss: 0.0017\n",
      "Epoch 40/100\n",
      "9/9 - 1s - 166ms/step - loss: 0.0015 - val_loss: 0.0014\n",
      "Epoch 41/100\n",
      "9/9 - 3s - 362ms/step - loss: 0.0015 - val_loss: 0.0012\n",
      "Epoch 42/100\n",
      "9/9 - 2s - 240ms/step - loss: 0.0015 - val_loss: 0.0012\n",
      "Epoch 43/100\n",
      "9/9 - 1s - 158ms/step - loss: 0.0015 - val_loss: 0.0020\n",
      "Epoch 44/100\n",
      "9/9 - 1s - 166ms/step - loss: 0.0015 - val_loss: 0.0019\n",
      "Epoch 45/100\n",
      "9/9 - 1s - 165ms/step - loss: 0.0015 - val_loss: 0.0018\n",
      "Epoch 46/100\n",
      "9/9 - 1s - 162ms/step - loss: 0.0014 - val_loss: 0.0024\n",
      "Epoch 47/100\n",
      "9/9 - 1s - 165ms/step - loss: 0.0015 - val_loss: 0.0014\n",
      "Epoch 48/100\n",
      "9/9 - 1s - 158ms/step - loss: 0.0015 - val_loss: 0.0011\n",
      "Epoch 49/100\n",
      "9/9 - 2s - 167ms/step - loss: 0.0014 - val_loss: 0.0012\n",
      "Epoch 50/100\n",
      "9/9 - 2s - 173ms/step - loss: 0.0013 - val_loss: 0.0014\n",
      "Epoch 51/100\n",
      "9/9 - 2s - 173ms/step - loss: 0.0013 - val_loss: 0.0016\n",
      "Epoch 52/100\n",
      "9/9 - 1s - 162ms/step - loss: 0.0014 - val_loss: 0.0012\n",
      "Epoch 53/100\n",
      "9/9 - 1s - 165ms/step - loss: 0.0014 - val_loss: 0.0010\n",
      "Epoch 54/100\n",
      "9/9 - 1s - 157ms/step - loss: 0.0015 - val_loss: 0.0011\n",
      "Epoch 55/100\n",
      "9/9 - 1s - 161ms/step - loss: 0.0014 - val_loss: 9.4159e-04\n",
      "Epoch 56/100\n",
      "9/9 - 1s - 160ms/step - loss: 0.0014 - val_loss: 0.0013\n",
      "Epoch 57/100\n",
      "9/9 - 1s - 161ms/step - loss: 0.0013 - val_loss: 0.0017\n",
      "Epoch 58/100\n",
      "9/9 - 1s - 159ms/step - loss: 0.0012 - val_loss: 0.0016\n",
      "Epoch 59/100\n",
      "9/9 - 1s - 160ms/step - loss: 0.0013 - val_loss: 0.0032\n",
      "Epoch 60/100\n",
      "9/9 - 2s - 167ms/step - loss: 0.0016 - val_loss: 0.0044\n",
      "Epoch 61/100\n",
      "9/9 - 1s - 161ms/step - loss: 0.0018 - val_loss: 0.0013\n",
      "Epoch 62/100\n",
      "9/9 - 2s - 177ms/step - loss: 0.0014 - val_loss: 8.4892e-04\n",
      "Epoch 63/100\n",
      "9/9 - 1s - 165ms/step - loss: 0.0013 - val_loss: 9.8647e-04\n",
      "Epoch 64/100\n",
      "9/9 - 1s - 161ms/step - loss: 0.0012 - val_loss: 8.6551e-04\n",
      "Epoch 65/100\n",
      "9/9 - 1s - 158ms/step - loss: 0.0012 - val_loss: 8.2590e-04\n",
      "Epoch 66/100\n",
      "9/9 - 1s - 166ms/step - loss: 0.0012 - val_loss: 0.0017\n",
      "Epoch 67/100\n",
      "9/9 - 3s - 295ms/step - loss: 0.0013 - val_loss: 0.0025\n",
      "Epoch 68/100\n",
      "9/9 - 2s - 168ms/step - loss: 0.0012 - val_loss: 0.0011\n",
      "Epoch 69/100\n",
      "9/9 - 1s - 155ms/step - loss: 0.0011 - val_loss: 8.6556e-04\n",
      "Epoch 70/100\n",
      "9/9 - 3s - 296ms/step - loss: 0.0011 - val_loss: 7.5536e-04\n",
      "Epoch 71/100\n",
      "9/9 - 1s - 162ms/step - loss: 0.0011 - val_loss: 7.4723e-04\n",
      "Epoch 72/100\n",
      "9/9 - 1s - 162ms/step - loss: 0.0012 - val_loss: 0.0013\n",
      "Epoch 73/100\n",
      "9/9 - 3s - 291ms/step - loss: 0.0012 - val_loss: 0.0023\n",
      "Epoch 74/100\n",
      "9/9 - 2s - 167ms/step - loss: 0.0011 - val_loss: 0.0012\n",
      "Epoch 75/100\n",
      "9/9 - 1s - 159ms/step - loss: 0.0010 - val_loss: 6.8941e-04\n",
      "Epoch 76/100\n",
      "9/9 - 3s - 284ms/step - loss: 0.0011 - val_loss: 0.0010\n",
      "Epoch 77/100\n",
      "9/9 - 3s - 292ms/step - loss: 0.0010 - val_loss: 7.7025e-04\n",
      "Epoch 78/100\n",
      "9/9 - 1s - 153ms/step - loss: 0.0010 - val_loss: 8.1837e-04\n",
      "Epoch 79/100\n",
      "9/9 - 1s - 159ms/step - loss: 9.9677e-04 - val_loss: 8.8911e-04\n",
      "Epoch 80/100\n",
      "9/9 - 3s - 310ms/step - loss: 9.8388e-04 - val_loss: 7.9560e-04\n",
      "Epoch 81/100\n",
      "9/9 - 1s - 164ms/step - loss: 0.0011 - val_loss: 9.2983e-04\n",
      "Epoch 82/100\n",
      "9/9 - 2s - 193ms/step - loss: 9.6887e-04 - val_loss: 6.8209e-04\n",
      "Epoch 83/100\n",
      "9/9 - 3s - 291ms/step - loss: 9.8284e-04 - val_loss: 6.0249e-04\n",
      "Epoch 84/100\n",
      "9/9 - 2s - 252ms/step - loss: 9.4799e-04 - val_loss: 9.1606e-04\n",
      "Epoch 85/100\n",
      "9/9 - 1s - 160ms/step - loss: 9.6193e-04 - val_loss: 0.0021\n",
      "Epoch 86/100\n",
      "9/9 - 3s - 280ms/step - loss: 0.0010 - val_loss: 6.3553e-04\n",
      "Epoch 87/100\n",
      "9/9 - 1s - 165ms/step - loss: 9.5811e-04 - val_loss: 8.0552e-04\n",
      "Epoch 88/100\n",
      "9/9 - 2s - 183ms/step - loss: 8.9731e-04 - val_loss: 0.0013\n",
      "Epoch 89/100\n",
      "9/9 - 2s - 265ms/step - loss: 9.1442e-04 - val_loss: 7.1216e-04\n",
      "Epoch 90/100\n",
      "9/9 - 1s - 155ms/step - loss: 8.7293e-04 - val_loss: 8.7639e-04\n",
      "Epoch 91/100\n",
      "9/9 - 1s - 159ms/step - loss: 8.8764e-04 - val_loss: 6.0471e-04\n",
      "Epoch 92/100\n",
      "9/9 - 1s - 161ms/step - loss: 9.6803e-04 - val_loss: 0.0013\n",
      "Epoch 93/100\n",
      "9/9 - 1s - 162ms/step - loss: 8.9116e-04 - val_loss: 0.0012\n",
      "Epoch 94/100\n",
      "9/9 - 1s - 155ms/step - loss: 9.7112e-04 - val_loss: 8.2266e-04\n",
      "Epoch 95/100\n",
      "9/9 - 2s - 183ms/step - loss: 9.8885e-04 - val_loss: 0.0019\n",
      "Epoch 96/100\n",
      "9/9 - 1s - 162ms/step - loss: 9.7451e-04 - val_loss: 5.0815e-04\n",
      "Epoch 97/100\n",
      "9/9 - 2s - 185ms/step - loss: 8.6951e-04 - val_loss: 6.0111e-04\n",
      "Epoch 98/100\n",
      "9/9 - 1s - 160ms/step - loss: 7.9442e-04 - val_loss: 5.3560e-04\n",
      "Epoch 99/100\n",
      "9/9 - 3s - 283ms/step - loss: 8.1105e-04 - val_loss: 0.0010\n",
      "Epoch 100/100\n",
      "9/9 - 1s - 164ms/step - loss: 7.8337e-04 - val_loss: 6.0481e-04\n"
     ]
    },
    {
     "data": {
      "text/plain": [
       "<keras.src.callbacks.history.History at 0x2b7896c3550>"
      ]
     },
     "execution_count": 66,
     "metadata": {},
     "output_type": "execute_result"
    }
   ],
   "source": [
    "model.fit(X_train, y_train, validation_data=(X_test, y_test), epochs=100, batch_size=64,verbose=2)"
   ]
  },
  {
   "cell_type": "code",
   "execution_count": 67,
   "id": "944e18be-a8a9-4e8f-acfc-c561fc9e2df5",
   "metadata": {},
   "outputs": [
    {
     "name": "stdout",
     "output_type": "stream",
     "text": [
      "\u001b[1m18/18\u001b[0m \u001b[32m━━━━━━━━━━━━━━━━━━━━\u001b[0m\u001b[37m\u001b[0m \u001b[1m3s\u001b[0m 81ms/step\n",
      "\u001b[1m8/8\u001b[0m \u001b[32m━━━━━━━━━━━━━━━━━━━━\u001b[0m\u001b[37m\u001b[0m \u001b[1m0s\u001b[0m 57ms/step\n"
     ]
    }
   ],
   "source": [
    "train_predict = model.predict(X_train)\n",
    "test_predict = model.predict(X_test)"
   ]
  },
  {
   "cell_type": "code",
   "execution_count": 68,
   "id": "2691ad38-efad-4ff6-a2b1-a3806c86ea91",
   "metadata": {},
   "outputs": [],
   "source": [
    "# Transform back to original form\n",
    "train_predict = scaler.inverse_transform(train_predict)\n",
    "test_predict = scaler.inverse_transform(test_predict)"
   ]
  },
  {
   "cell_type": "code",
   "execution_count": 71,
   "id": "c542563c-42cd-4bbc-b441-d82332cae36e",
   "metadata": {},
   "outputs": [
    {
     "data": {
      "text/plain": [
       "135.6763412828453"
      ]
     },
     "execution_count": 71,
     "metadata": {},
     "output_type": "execute_result"
    }
   ],
   "source": [
    "import math\n",
    "from sklearn.metrics import mean_squared_error\n",
    "math.sqrt(mean_squared_error(y_train, train_predict))"
   ]
  },
  {
   "cell_type": "code",
   "execution_count": 73,
   "id": "70a5f071-7d91-4b87-ba69-bb5fd6d2db6b",
   "metadata": {},
   "outputs": [
    {
     "data": {
      "text/plain": [
       "169.18960470355813"
      ]
     },
     "execution_count": 73,
     "metadata": {},
     "output_type": "execute_result"
    }
   ],
   "source": [
    "math.sqrt(mean_squared_error(y_test, test_predict))"
   ]
  },
  {
   "cell_type": "code",
   "execution_count": 74,
   "id": "b87bee3d-42f0-4118-9c05-27581e45087e",
   "metadata": {},
   "outputs": [
    {
     "data": {
      "text/plain": [
       "353"
      ]
     },
     "execution_count": 74,
     "metadata": {},
     "output_type": "execute_result"
    }
   ],
   "source": [
    "len(test_data)"
   ]
  },
  {
   "cell_type": "code",
   "execution_count": 105,
   "id": "a98c877f-fd06-4e53-bb2b-9436099e93cd",
   "metadata": {},
   "outputs": [
    {
     "data": {
      "image/png": "[encoded data removed]",
      "text/plain": [
       "<Figure size 640x480 with 1 Axes>"
      ]
     },
     "metadata": {},
     "output_type": "display_data"
    }
   ],
   "source": [
    "lookback = 100 # used as previous timestep and moved and added at last\n",
    "# shift train predictions for plotting\n",
    "trainPredictPlot = np.empty_like(df2)\n",
    "trainPredictPlot[:,:] = np.nan\n",
    "trainPredictPlot[lookback:len(train_predict)+lookback, :] = train_predict # first 100 were used to predict\n",
    "\n",
    "# shift test prediction for plotting\n",
    "testPredictPlot = np.empty_like(df2)\n",
    "testPredictPlot[:,:] = np.nan\n",
    "testPredictPlot[len(train_predict)+(lookback*2)+1:len(df2)-1,:] = test_predict # to get the test starting point and plot from on\n",
    "\n",
    "#baseline and predictions\n",
    "plt.plot(scaler.inverse_transform(df2))\n",
    "plt.plot(trainPredictPlot)\n",
    "plt.plot(testPredictPlot)\n",
    "plt.show()"
   ]
  },
  {
   "cell_type": "code",
   "execution_count": 104,
   "id": "e9032d2b-134e-4c54-9b24-cc765ce35b0a",
   "metadata": {},
   "outputs": [
    {
     "data": {
      "text/plain": [
       "202"
      ]
     },
     "execution_count": 104,
     "metadata": {},
     "output_type": "execute_result"
    }
   ],
   "source": [
    "len(df2)-(len(train_predict)+len(test_predict))"
   ]
  },
  {
   "cell_type": "code",
   "execution_count": 95,
   "id": "90dff7a2-350e-4b45-9f61-40900b7c8c60",
   "metadata": {},
   "outputs": [
    {
     "data": {
      "text/plain": [
       "(552, 252, 804)"
      ]
     },
     "execution_count": 95,
     "metadata": {},
     "output_type": "execute_result"
    }
   ],
   "source": [
    "len(train_predict), len(test_predict), len(train_predict)+ len(test_predict)"
   ]
  },
  {
   "cell_type": "code",
   "execution_count": 96,
   "id": "e0cece8b-69bf-4cf4-a588-f1b93842efc1",
   "metadata": {},
   "outputs": [
    {
     "data": {
      "text/plain": [
       "1006"
      ]
     },
     "execution_count": 96,
     "metadata": {},
     "output_type": "execute_result"
    }
   ],
   "source": [
    "len(df) "
   ]
  },
  {
   "cell_type": "code",
   "execution_count": 92,
   "id": "99c97cc4-b9d4-41d1-b7ec-76a7cf98ecea",
   "metadata": {},
   "outputs": [],
   "source": [
    "# predict the future 30 days"
   ]
  },
  {
   "cell_type": "code",
   "execution_count": 106,
   "id": "946de13a-cbf1-4c5c-b79a-887a860fe0d2",
   "metadata": {},
   "outputs": [
    {
     "data": {
      "text/plain": [
       "353"
      ]
     },
     "execution_count": 106,
     "metadata": {},
     "output_type": "execute_result"
    }
   ],
   "source": [
    "len(test_data)"
   ]
  },
  {
   "cell_type": "code",
   "execution_count": 124,
   "id": "9807f8d7-c9ca-441d-a1af-e4013bb71b23",
   "metadata": {},
   "outputs": [
    {
     "data": {
      "text/plain": [
       "array([[0.8577133 , 0.85618244, 0.85660051, 0.86823643, 0.85423148,\n",
       "        0.84810002, 0.83019345, 0.83360756, 0.84301373, 0.85269859,\n",
       "        0.8798025 , 0.84677637, 0.8623139 , 0.87332272, 0.9007051 ,\n",
       "        0.92530069, 0.92683358, 0.93791193, 0.93958422, 0.89227446,\n",
       "        0.85499776, 0.85931776, 0.86753968, 0.84621891, 0.8316566 ,\n",
       "        0.84231698, 0.83723049, 0.85785473, 0.86551897, 0.84057516,\n",
       "        0.82970553, 0.83569781, 0.8446858 , 0.81597957, 0.80531907,\n",
       "        0.80713075, 0.81075389, 0.82845142, 0.81904524, 0.82782442,\n",
       "        0.83653384, 0.85451016, 0.86496161, 0.86078101, 0.87060525,\n",
       "        0.87694586, 0.86398619, 0.86308029, 0.85214123, 0.84301373,\n",
       "        0.84036602, 0.82238971, 0.82322585, 0.82629142, 0.8099875 ,\n",
       "        0.78065394, 0.78992083, 0.80434354, 0.80768811, 0.8299842 ,\n",
       "        0.85506751, 0.84865727, 0.86663369, 0.88467975, 0.89213507,\n",
       "        0.8887906 , 0.91830217, 0.90713952, 0.92555808, 0.92953479,\n",
       "        0.94139536, 0.94125586, 0.95353483, 0.94788381, 0.95255812,\n",
       "        0.94320939, 0.94195347, 0.94620928, 0.93902323, 0.94306968,\n",
       "        0.95206976, 0.93944172, 0.96727908, 0.95960478, 0.97320942,\n",
       "        0.98325576, 0.96560455, 0.97627917, 0.99895365, 1.        ,\n",
       "        0.99623265, 0.98451157, 0.99183734, 0.97711638, 0.9760696 ,\n",
       "        0.96853501, 0.9646977 , 0.9653953 , 0.96839529, 0.96106974]])"
      ]
     },
     "execution_count": 124,
     "metadata": {},
     "output_type": "execute_result"
    }
   ],
   "source": [
    "# 353 to find the next one(354) we have to take previous 100 data\n",
    "X_input = test_data[253:].reshape(1,-1)\n",
    "X_input"
   ]
  },
  {
   "cell_type": "code",
   "execution_count": 145,
   "id": "29ae54eb-857c-4d95-a45b-13b07ce55fd8",
   "metadata": {},
   "outputs": [
    {
     "data": {
      "text/plain": [
       "True"
      ]
     },
     "execution_count": 145,
     "metadata": {},
     "output_type": "execute_result"
    }
   ],
   "source": [
    "len(temp_input) == len(X_input.flatten())"
   ]
  },
  {
   "cell_type": "code",
   "execution_count": 131,
   "id": "0ef8814e-7728-46b2-8c5e-06c897eabb04",
   "metadata": {},
   "outputs": [],
   "source": [
    "temp_input = list(X_input)\n",
    "temp_input = temp_input[0].tolist()"
   ]
  },
  {
   "cell_type": "code",
   "execution_count": 158,
   "id": "312c647b-561e-421b-9dde-1bcad64331b4",
   "metadata": {},
   "outputs": [
    {
     "ename": "ValueError",
     "evalue": "cannot reshape array of size 101 into shape (1,100,1)",
     "output_type": "error",
     "traceback": [
      "\u001b[1;31m---------------------------------------------------------------------------\u001b[0m",
      "\u001b[1;31mValueError\u001b[0m                                Traceback (most recent call last)",
      "Cell \u001b[1;32mIn[158], line 23\u001b[0m\n\u001b[0;32m     21\u001b[0m     i\u001b[38;5;241m=\u001b[39mi\u001b[38;5;241m+\u001b[39m\u001b[38;5;241m1\u001b[39m\n\u001b[0;32m     22\u001b[0m \u001b[38;5;28;01melse\u001b[39;00m:\n\u001b[1;32m---> 23\u001b[0m     X_input \u001b[38;5;241m=\u001b[39m \u001b[43mX_input\u001b[49m\u001b[38;5;241;43m.\u001b[39;49m\u001b[43mreshape\u001b[49m\u001b[43m(\u001b[49m\u001b[43m(\u001b[49m\u001b[38;5;241;43m1\u001b[39;49m\u001b[43m,\u001b[49m\u001b[43m \u001b[49m\u001b[43mn_steps\u001b[49m\u001b[43m,\u001b[49m\u001b[38;5;241;43m1\u001b[39;49m\u001b[43m)\u001b[49m\u001b[43m)\u001b[49m\n\u001b[0;32m     24\u001b[0m     yhat \u001b[38;5;241m=\u001b[39m model\u001b[38;5;241m.\u001b[39mpredict(X_input, verbose\u001b[38;5;241m=\u001b[39m\u001b[38;5;241m0\u001b[39m)\n\u001b[0;32m     25\u001b[0m     \u001b[38;5;28mprint\u001b[39m(yhat[\u001b[38;5;241m0\u001b[39m])\n",
      "\u001b[1;31mValueError\u001b[0m: cannot reshape array of size 101 into shape (1,100,1)"
     ]
    }
   ],
   "source": [
    "from numpy import array\n",
    "\n",
    "lst_output=[]\n",
    "n_steps=100\n",
    "i=0\n",
    "while(i<30):\n",
    "    \n",
    "    if(len(temp_input)>100):\n",
    "        #print(temp_input)\n",
    "        X_input=np.array(temp_input[1:])\n",
    "        print(\"{} day input {}\".format(i,X_input))\n",
    "        X_input=x_input.reshape(1,-1)\n",
    "        X_input = X_input.reshape((1, n_steps, 1))\n",
    "        #print(x_input)\n",
    "        yhat = model.predict(X_input, verbose=0)\n",
    "        print(\"{} day output {}\".format(i,yhat))\n",
    "        temp_input.extend(yhat[0].tolist())\n",
    "        temp_input=temp_input[1:]\n",
    "        #print(temp_input)\n",
    "        lst_output.extend(yhat.tolist())\n",
    "        i=i+1\n",
    "    else:\n",
    "        X_input = X_input.reshape((1, n_steps,1))\n",
    "        yhat = model.predict(X_input, verbose=0)\n",
    "        print(yhat[0])\n",
    "        temp_input.extend(yhat[0].tolist())\n",
    "        print(len(temp_input))\n",
    "        lst_output.extend(yhat.tolist())\n",
    "        i=i+1\n",
    "    \n",
    "\n",
    "print(lst_output)"
   ]
  },
  {
   "cell_type": "code",
   "execution_count": 157,
   "id": "3ed8c9b2-e86f-469d-8ec3-5aa8035cd6bc",
   "metadata": {},
   "outputs": [
    {
     "name": "stdout",
     "output_type": "stream",
     "text": [
      "0 day input [0.85660051 0.86823643 0.85423148 0.84810002 0.83019345 0.83360756\n",
      " 0.84301373 0.85269859 0.8798025  0.84677637 0.8623139  0.87332272\n",
      " 0.9007051  0.92530069 0.92683358 0.93791193 0.93958422 0.89227446\n",
      " 0.85499776 0.85931776 0.86753968 0.84621891 0.8316566  0.84231698\n",
      " 0.83723049 0.85785473 0.86551897 0.84057516 0.82970553 0.83569781\n",
      " 0.8446858  0.81597957 0.80531907 0.80713075 0.81075389 0.82845142\n",
      " 0.81904524 0.82782442 0.83653384 0.85451016 0.86496161 0.86078101\n",
      " 0.87060525 0.87694586 0.86398619 0.86308029 0.85214123 0.84301373\n",
      " 0.84036602 0.82238971 0.82322585 0.82629142 0.8099875  0.78065394\n",
      " 0.78992083 0.80434354 0.80768811 0.8299842  0.85506751 0.84865727\n",
      " 0.86663369 0.88467975 0.89213507 0.8887906  0.91830217 0.90713952\n",
      " 0.92555808 0.92953479 0.94139536 0.94125586 0.95353483 0.94788381\n",
      " 0.95255812 0.94320939 0.94195347 0.94620928 0.93902323 0.94306968\n",
      " 0.95206976 0.93944172 0.96727908 0.95960478 0.97320942 0.98325576\n",
      " 0.96560455 0.97627917 0.99895365 1.         0.99623265 0.98451157\n",
      " 0.99183734 0.97711638 0.9760696  0.96853501 0.9646977  0.9653953\n",
      " 0.96839529 0.96106974 0.94780725 0.94475579]\n",
      "0 day output [[0.94026893]]\n",
      "Insufficient input data for prediction.\n",
      "[[0.9402689337730408]]\n"
     ]
    }
   ],
   "source": [
    "lst_output = []\n",
    "n_steps = 100\n",
    "i = 0\n",
    "\n",
    "while i < 30:\n",
    "    if len(temp_input) > n_steps:\n",
    "        # Slice the last `n_steps` elements to create input for the model\n",
    "        x_input = np.array(temp_input[-n_steps:])\n",
    "        print(\"{} day input {}\".format(i, x_input))\n",
    "\n",
    "        # Reshape the input to the required shape for LSTM\n",
    "        x_input = x_input.reshape((1, n_steps, 1))\n",
    "\n",
    "        # Predict the next value\n",
    "        yhat = model.predict(x_input, verbose=0)\n",
    "        print(\"{} day output {}\".format(i, yhat))\n",
    "\n",
    "        # Extend `temp_input` with the predicted value\n",
    "        temp_input.extend(yhat[0].tolist())\n",
    "\n",
    "        # Ensure `temp_input` remains within the desired length\n",
    "        temp_input = temp_input[-n_steps:]\n",
    "\n",
    "        # Append prediction to `lst_output`\n",
    "        lst_output.extend(yhat.tolist())\n",
    "        i += 1\n",
    "    else:\n",
    "        print(\"Insufficient input data for prediction.\")\n",
    "        break\n",
    "\n",
    "print(lst_output)\n"
   ]
  },
  {
   "cell_type": "code",
   "execution_count": 159,
   "id": "a6e4c0e9-590f-4a34-81cc-4ab1692656ad",
   "metadata": {},
   "outputs": [],
   "source": [
    "day_new=np.arange(1,101)\n",
    "day_pred=np.arange(101,131)"
   ]
  },
  {
   "cell_type": "code",
   "execution_count": 161,
   "id": "f61b178e-ea6d-4353-98e4-a0b04d379050",
   "metadata": {},
   "outputs": [
    {
     "ename": "ValueError",
     "evalue": "x and y must have same first dimension, but have shapes (100,) and (10, 1)",
     "output_type": "error",
     "traceback": [
      "\u001b[1;31m---------------------------------------------------------------------------\u001b[0m",
      "\u001b[1;31mValueError\u001b[0m                                Traceback (most recent call last)",
      "Cell \u001b[1;32mIn[161], line 3\u001b[0m\n\u001b[0;32m      1\u001b[0m \u001b[38;5;28;01mimport\u001b[39;00m\u001b[38;5;250m \u001b[39m\u001b[38;5;21;01mmatplotlib\u001b[39;00m\u001b[38;5;21;01m.\u001b[39;00m\u001b[38;5;21;01mpyplot\u001b[39;00m\u001b[38;5;250m \u001b[39m\u001b[38;5;28;01mas\u001b[39;00m\u001b[38;5;250m \u001b[39m\u001b[38;5;21;01mplt\u001b[39;00m\n\u001b[1;32m----> 3\u001b[0m \u001b[43mplt\u001b[49m\u001b[38;5;241;43m.\u001b[39;49m\u001b[43mplot\u001b[49m\u001b[43m(\u001b[49m\u001b[43mday_new\u001b[49m\u001b[43m,\u001b[49m\u001b[43mscaler\u001b[49m\u001b[38;5;241;43m.\u001b[39;49m\u001b[43minverse_transform\u001b[49m\u001b[43m(\u001b[49m\u001b[43mdf2\u001b[49m\u001b[43m[\u001b[49m\u001b[38;5;241;43m996\u001b[39;49m\u001b[43m:\u001b[49m\u001b[43m]\u001b[49m\u001b[43m)\u001b[49m\u001b[43m)\u001b[49m\n\u001b[0;32m      4\u001b[0m plt\u001b[38;5;241m.\u001b[39mplot(day_pred,scaler\u001b[38;5;241m.\u001b[39minverse_transform(lst_output))\n",
      "File \u001b[1;32m~\\anaconda3\\envs\\dl\\lib\\site-packages\\matplotlib\\pyplot.py:3794\u001b[0m, in \u001b[0;36mplot\u001b[1;34m(scalex, scaley, data, *args, **kwargs)\u001b[0m\n\u001b[0;32m   3786\u001b[0m \u001b[38;5;129m@_copy_docstring_and_deprecators\u001b[39m(Axes\u001b[38;5;241m.\u001b[39mplot)\n\u001b[0;32m   3787\u001b[0m \u001b[38;5;28;01mdef\u001b[39;00m\u001b[38;5;250m \u001b[39m\u001b[38;5;21mplot\u001b[39m(\n\u001b[0;32m   3788\u001b[0m     \u001b[38;5;241m*\u001b[39margs: \u001b[38;5;28mfloat\u001b[39m \u001b[38;5;241m|\u001b[39m ArrayLike \u001b[38;5;241m|\u001b[39m \u001b[38;5;28mstr\u001b[39m,\n\u001b[1;32m   (...)\u001b[0m\n\u001b[0;32m   3792\u001b[0m     \u001b[38;5;241m*\u001b[39m\u001b[38;5;241m*\u001b[39mkwargs,\n\u001b[0;32m   3793\u001b[0m ) \u001b[38;5;241m-\u001b[39m\u001b[38;5;241m>\u001b[39m \u001b[38;5;28mlist\u001b[39m[Line2D]:\n\u001b[1;32m-> 3794\u001b[0m     \u001b[38;5;28;01mreturn\u001b[39;00m gca()\u001b[38;5;241m.\u001b[39mplot(\n\u001b[0;32m   3795\u001b[0m         \u001b[38;5;241m*\u001b[39margs,\n\u001b[0;32m   3796\u001b[0m         scalex\u001b[38;5;241m=\u001b[39mscalex,\n\u001b[0;32m   3797\u001b[0m         scaley\u001b[38;5;241m=\u001b[39mscaley,\n\u001b[0;32m   3798\u001b[0m         \u001b[38;5;241m*\u001b[39m\u001b[38;5;241m*\u001b[39m({\u001b[38;5;124m\"\u001b[39m\u001b[38;5;124mdata\u001b[39m\u001b[38;5;124m\"\u001b[39m: data} \u001b[38;5;28;01mif\u001b[39;00m data \u001b[38;5;129;01mis\u001b[39;00m \u001b[38;5;129;01mnot\u001b[39;00m \u001b[38;5;28;01mNone\u001b[39;00m \u001b[38;5;28;01melse\u001b[39;00m {}),\n\u001b[0;32m   3799\u001b[0m         \u001b[38;5;241m*\u001b[39m\u001b[38;5;241m*\u001b[39mkwargs,\n\u001b[0;32m   3800\u001b[0m     )\n",
      "File \u001b[1;32m~\\anaconda3\\envs\\dl\\lib\\site-packages\\matplotlib\\axes\\_axes.py:1779\u001b[0m, in \u001b[0;36mAxes.plot\u001b[1;34m(self, scalex, scaley, data, *args, **kwargs)\u001b[0m\n\u001b[0;32m   1536\u001b[0m \u001b[38;5;250m\u001b[39m\u001b[38;5;124;03m\"\"\"\u001b[39;00m\n\u001b[0;32m   1537\u001b[0m \u001b[38;5;124;03mPlot y versus x as lines and/or markers.\u001b[39;00m\n\u001b[0;32m   1538\u001b[0m \n\u001b[1;32m   (...)\u001b[0m\n\u001b[0;32m   1776\u001b[0m \u001b[38;5;124;03m(``'green'``) or hex strings (``'#008000'``).\u001b[39;00m\n\u001b[0;32m   1777\u001b[0m \u001b[38;5;124;03m\"\"\"\u001b[39;00m\n\u001b[0;32m   1778\u001b[0m kwargs \u001b[38;5;241m=\u001b[39m cbook\u001b[38;5;241m.\u001b[39mnormalize_kwargs(kwargs, mlines\u001b[38;5;241m.\u001b[39mLine2D)\n\u001b[1;32m-> 1779\u001b[0m lines \u001b[38;5;241m=\u001b[39m [\u001b[38;5;241m*\u001b[39m\u001b[38;5;28mself\u001b[39m\u001b[38;5;241m.\u001b[39m_get_lines(\u001b[38;5;28mself\u001b[39m, \u001b[38;5;241m*\u001b[39margs, data\u001b[38;5;241m=\u001b[39mdata, \u001b[38;5;241m*\u001b[39m\u001b[38;5;241m*\u001b[39mkwargs)]\n\u001b[0;32m   1780\u001b[0m \u001b[38;5;28;01mfor\u001b[39;00m line \u001b[38;5;129;01min\u001b[39;00m lines:\n\u001b[0;32m   1781\u001b[0m     \u001b[38;5;28mself\u001b[39m\u001b[38;5;241m.\u001b[39madd_line(line)\n",
      "File \u001b[1;32m~\\anaconda3\\envs\\dl\\lib\\site-packages\\matplotlib\\axes\\_base.py:296\u001b[0m, in \u001b[0;36m_process_plot_var_args.__call__\u001b[1;34m(self, axes, data, *args, **kwargs)\u001b[0m\n\u001b[0;32m    294\u001b[0m     this \u001b[38;5;241m+\u001b[39m\u001b[38;5;241m=\u001b[39m args[\u001b[38;5;241m0\u001b[39m],\n\u001b[0;32m    295\u001b[0m     args \u001b[38;5;241m=\u001b[39m args[\u001b[38;5;241m1\u001b[39m:]\n\u001b[1;32m--> 296\u001b[0m \u001b[38;5;28;01myield from\u001b[39;00m \u001b[38;5;28;43mself\u001b[39;49m\u001b[38;5;241;43m.\u001b[39;49m\u001b[43m_plot_args\u001b[49m\u001b[43m(\u001b[49m\n\u001b[0;32m    297\u001b[0m \u001b[43m    \u001b[49m\u001b[43maxes\u001b[49m\u001b[43m,\u001b[49m\u001b[43m \u001b[49m\u001b[43mthis\u001b[49m\u001b[43m,\u001b[49m\u001b[43m \u001b[49m\u001b[43mkwargs\u001b[49m\u001b[43m,\u001b[49m\u001b[43m \u001b[49m\u001b[43mambiguous_fmt_datakey\u001b[49m\u001b[38;5;241;43m=\u001b[39;49m\u001b[43mambiguous_fmt_datakey\u001b[49m\u001b[43m)\u001b[49m\n",
      "File \u001b[1;32m~\\anaconda3\\envs\\dl\\lib\\site-packages\\matplotlib\\axes\\_base.py:486\u001b[0m, in \u001b[0;36m_process_plot_var_args._plot_args\u001b[1;34m(self, axes, tup, kwargs, return_kwargs, ambiguous_fmt_datakey)\u001b[0m\n\u001b[0;32m    483\u001b[0m     axes\u001b[38;5;241m.\u001b[39myaxis\u001b[38;5;241m.\u001b[39mupdate_units(y)\n\u001b[0;32m    485\u001b[0m \u001b[38;5;28;01mif\u001b[39;00m x\u001b[38;5;241m.\u001b[39mshape[\u001b[38;5;241m0\u001b[39m] \u001b[38;5;241m!=\u001b[39m y\u001b[38;5;241m.\u001b[39mshape[\u001b[38;5;241m0\u001b[39m]:\n\u001b[1;32m--> 486\u001b[0m     \u001b[38;5;28;01mraise\u001b[39;00m \u001b[38;5;167;01mValueError\u001b[39;00m(\u001b[38;5;124mf\u001b[39m\u001b[38;5;124m\"\u001b[39m\u001b[38;5;124mx and y must have same first dimension, but \u001b[39m\u001b[38;5;124m\"\u001b[39m\n\u001b[0;32m    487\u001b[0m                      \u001b[38;5;124mf\u001b[39m\u001b[38;5;124m\"\u001b[39m\u001b[38;5;124mhave shapes \u001b[39m\u001b[38;5;132;01m{\u001b[39;00mx\u001b[38;5;241m.\u001b[39mshape\u001b[38;5;132;01m}\u001b[39;00m\u001b[38;5;124m and \u001b[39m\u001b[38;5;132;01m{\u001b[39;00my\u001b[38;5;241m.\u001b[39mshape\u001b[38;5;132;01m}\u001b[39;00m\u001b[38;5;124m\"\u001b[39m)\n\u001b[0;32m    488\u001b[0m \u001b[38;5;28;01mif\u001b[39;00m x\u001b[38;5;241m.\u001b[39mndim \u001b[38;5;241m>\u001b[39m \u001b[38;5;241m2\u001b[39m \u001b[38;5;129;01mor\u001b[39;00m y\u001b[38;5;241m.\u001b[39mndim \u001b[38;5;241m>\u001b[39m \u001b[38;5;241m2\u001b[39m:\n\u001b[0;32m    489\u001b[0m     \u001b[38;5;28;01mraise\u001b[39;00m \u001b[38;5;167;01mValueError\u001b[39;00m(\u001b[38;5;124mf\u001b[39m\u001b[38;5;124m\"\u001b[39m\u001b[38;5;124mx and y can be no greater than 2D, but have \u001b[39m\u001b[38;5;124m\"\u001b[39m\n\u001b[0;32m    490\u001b[0m                      \u001b[38;5;124mf\u001b[39m\u001b[38;5;124m\"\u001b[39m\u001b[38;5;124mshapes \u001b[39m\u001b[38;5;132;01m{\u001b[39;00mx\u001b[38;5;241m.\u001b[39mshape\u001b[38;5;132;01m}\u001b[39;00m\u001b[38;5;124m and \u001b[39m\u001b[38;5;132;01m{\u001b[39;00my\u001b[38;5;241m.\u001b[39mshape\u001b[38;5;132;01m}\u001b[39;00m\u001b[38;5;124m\"\u001b[39m)\n",
      "\u001b[1;31mValueError\u001b[0m: x and y must have same first dimension, but have shapes (100,) and (10, 1)"
     ]
    },
    {
     "data": {
      "image/png": "[encoded data removed]",
      "text/plain": [
       "<Figure size 640x480 with 1 Axes>"
      ]
     },
     "metadata": {},
     "output_type": "display_data"
    }
   ],
   "source": [
    "import matplotlib.pyplot as plt\n",
    "\n",
    "plt.plot(day_new,scaler.inverse_transform(df2[996:]))\n",
    "plt.plot(day_pred,scaler.inverse_transform(lst_output))"
   ]
  },
  {
   "cell_type": "code",
   "execution_count": 162,
   "id": "cd9d1040-c44c-420a-a0ab-f0b5b2d974c5",
   "metadata": {},
   "outputs": [
    {
     "data": {
      "text/plain": [
       "[<matplotlib.lines.Line2D at 0x2b79943af40>]"
      ]
     },
     "execution_count": 162,
     "metadata": {},
     "output_type": "execute_result"
    },
    {
     "data": {
      "image/png": "[encoded data removed]",
      "text/plain": [
       "<Figure size 640x480 with 1 Axes>"
      ]
     },
     "metadata": {},
     "output_type": "display_data"
    }
   ],
   "source": [
    "df3=df2.tolist()\n",
    "df3.extend(lst_output)\n",
    "plt.plot(df3[1200:])"
   ]
  },
  {
   "cell_type": "code",
   "execution_count": 163,
   "id": "2e3074a9-2f41-4b95-be21-01ac60a0bf38",
   "metadata": {},
   "outputs": [
    {
     "data": {
      "text/plain": [
       "[<matplotlib.lines.Line2D at 0x2b79948be20>]"
      ]
     },
     "execution_count": 163,
     "metadata": {},
     "output_type": "execute_result"
    },
    {
     "data": {
      "image/png": "[encoded data removed]",
      "text/plain": [
       "<Figure size 640x480 with 1 Axes>"
      ]
     },
     "metadata": {},
     "output_type": "display_data"
    }
   ],
   "source": [
    "df3=scaler.inverse_transform(df3).tolist()\n",
    "plt.plot(df3)"
   ]
  },
  {
   "cell_type": "code",
   "execution_count": null,
   "id": "82f82e6a-21f8-42e0-ba18-4582b4eb255c",
   "metadata": {},
   "outputs": [],
   "source": []
  }
 ],
 "metadata": {
  "kernelspec": {
   "display_name": "Python 3 (ipykernel)",
   "language": "python",
   "name": "python3"
  },
  "language_info": {
   "codemirror_mode": {
    "name": "ipython",
    "version": 3
   },
   "file_extension": ".py",
   "mimetype": "text/x-python",
   "name": "python",
   "nbconvert_exporter": "python",
   "pygments_lexer": "ipython3",
   "version": "3.9.21"
  }
 },
 "nbformat": 4,
 "nbformat_minor": 5
}
